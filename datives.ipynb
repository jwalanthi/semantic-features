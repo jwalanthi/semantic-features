{
 "cells": [
  {
   "cell_type": "code",
   "execution_count": 118,
   "metadata": {},
   "outputs": [],
   "source": [
    "import pandas as pd\n",
    "from minicons import cwe\n",
    "from torch.utils.data import DataLoader\n",
    "import torch\n",
    "from collections import defaultdict\n",
    "from tqdm import tqdm\n",
    "import re\n",
    "from model import FFNModule, FeatureNormPredictor, FFNParams, TrainingParams"
   ]
  },
  {
   "cell_type": "code",
   "execution_count": 119,
   "metadata": {},
   "outputs": [],
   "source": [
    "# first want to clean the data\n",
    "# uploading both csvs\n",
    "\n",
    "do_df = pd.read_csv(\"dative_data/direct_object.csv\")\n",
    "po_df = pd.read_csv(\"dative_data/prepositional.csv\")"
   ]
  },
  {
   "cell_type": "code",
   "execution_count": 120,
   "metadata": {},
   "outputs": [],
   "source": [
    "# convert csvs into lists of sentence word pairs\n",
    "do_list_natural = do_df[['sentence','recipient']].values.tolist()\n",
    "do_list_alternate = do_df[['alternant','recipient']].values.tolist()\n",
    "po_list_natural = po_df[['sentence','recipient']].values.tolist()\n",
    "po_list_alternate = po_df[['alternant','recipient']].values.tolist()"
   ]
  },
  {
   "cell_type": "code",
   "execution_count": 121,
   "metadata": {},
   "outputs": [
    {
     "data": {
      "text/plain": [
       "['Rodolfo gives Mimi the pink bonnet he bought her, which he has kept as a souvenir of their love.',\n",
       " 'mimi']"
      ]
     },
     "execution_count": 121,
     "metadata": {},
     "output_type": "execute_result"
    }
   ],
   "source": [
    "do_list_natural[1]"
   ]
  },
  {
   "cell_type": "code",
   "execution_count": 122,
   "metadata": {},
   "outputs": [
    {
     "data": {
      "text/plain": [
       "False"
      ]
     },
     "execution_count": 122,
     "metadata": {},
     "output_type": "execute_result"
    }
   ],
   "source": [
    "do_list_natural[1][1] in do_list_natural[1][0]"
   ]
  },
  {
   "cell_type": "code",
   "execution_count": 123,
   "metadata": {},
   "outputs": [],
   "source": [
    "def _find_word_form(word, sentence):\n",
    "  '''find how word occurs in sentence'''\n",
    "  matches = re.finditer(word, sentence.lower())\n",
    "  for match in matches:\n",
    "    span = match.span()\n",
    "    if (span[0] == 0 or sentence[span[0]-1] == ' ') and (span[1] == len(sentence) or sentence[span[1]] == ' ' or sentence[span[1]] == '.' or sentence[span[1]] == '!' or sentence[span[1]] == '?' or sentence[span[1]] == ',' or sentence[span[1]] == ';'):\n",
    "      return tuple(span)\n",
    "  return None\n",
    "  print(f\"no match found for {word} in {sentence}\")\n",
    "  raise Exception(\"no match found\")"
   ]
  },
  {
   "cell_type": "code",
   "execution_count": 124,
   "metadata": {},
   "outputs": [
    {
     "name": "stdout",
     "output_type": "stream",
     "text": [
      "no span found for the members of the sarcastic gamer community (the forums) in The Sarcastic Gamer Community Podcast is not a podcast, but an initiative designed to give the members of the Sarcastic Gamer Community (the forums) a chance to make their own podcast and have it featured on the site.\n",
      "no span found for the members of the sarcastic gamer community (the forums) in The Sarcastic Gamer Community Podcast is not a podcast, but an initiative designed to give a chance to make their own podcast and have it featured on the site to the members of the Sarcastic Gamer Community (the forums).\n",
      "no span found for many of the senators and their men , men who once considered him an enemy in Nor did Ptolemy take into account that Caesar was granting amnesty to many of the senators and their men, men who once considered him an enemy.\n",
      "no span found for this 40 year travesty of justice in In May 2007 West joined a demonstration against \"injustices faced by the Palestinian people resulting from the Israeli occupation\" and \"to bring attention to this 40 year travesty of justice\".\n",
      "no span found for nearby countries , especially japan , korea , and vietnam in In East Asia, since China introduced writing to nearby countries, especially Japan, Korea, and Vietnam.\n",
      "no span found for the black-foot chief , dull knife , where he lived on the banks of the little bighorn in Coldheart had sent twenty ponies to the Black-foot chief, Dull Knife, where he lived on the banks of the Little Bighorn.\n",
      "no span found for the \" city of joy \" in He takes the injured doctor to the \"City of Joy\".\n",
      "no span found for a place where all around would respect her , and where every pleasure would surround her in The King retorted that her opposition filled him with despair, but that he hoped to carry her to a place where all around would respect her, and where every pleasure would surround her.\n",
      "no span found for his son richard , who later became king richard ii of england in He asked his father to give the title Prince of Wales to his son Richard, who later became King Richard II of England.\n",
      "no span found for churches where the architects were getting rid of the central screen so that the organ could be heard better in the main part of the church ( the nave ) in He made organs for churches where the architects were getting rid of the central screen so that the organ could be heard better in the main part of the church (the nave).\n",
      "no span found for rajan's chachi ( shubha khote ) in Nirmala, after her husband's death starts working in a factory owned by J. V., but due to her concentrating on her small baby's cry, she is thrown out by the factory management and to earn money she gets into the club dancer profession and sends her child to Rajan's Chachi (Shubha Khote).\n",
      "no span found for homeless shelters , low income senior centers , hospitals , and under-privileged classrooms throughout the united states in As of December 2017 the company has donated nearly 100, 000 socks to homeless shelters, low income senior centers, hospitals, and under-privileged classrooms throughout the United States.\n",
      "no span found for the \" miami herald \" in He wrote a nationally syndicated humor column for the \"Miami Herald\" from 1983 to 2005.\n",
      "no span found for paramount pictures , which will distribute all of miramax's movies in In 2019, beIN sold 49 percent of Miramax to Paramount Pictures, which will distribute all of Miramax's movies.\n",
      "no span found for cassady , who did not give kerouac the reaction he expected in Kerouac delivered one of the first printed copies of \"On the Road\" in person to Cassady, who did not give Kerouac the reaction he expected.\n",
      "no span found for the wolves , panthers , and other beasts of prey that infested the forest in He only took the choicest portions of the deer, which he rolled carefully up in the skin, leaving the remainder to the wolves, panthers, and other beasts of prey that infested the forest.\n",
      "no span found for san francisco , where bakshi stayed with crumb and his wife dana in an attempt to persuade crumb to sign the contract in Krantz sent Bakshi to San Francisco, where Bakshi stayed with Crumb and his wife Dana in an attempt to persuade Crumb to sign the contract.\n",
      "no span found for the archbishop ’s grand vicar in In effect it was shortly as follows:-After having requested the spectators carefully to examine a large envelope sealed on all sides, I handed it to the Archbishop’s Grand Vicar, begging him to keep it in his own possession.\n",
      "no span found for \" contra \" soldiers in nicaragua in In the 1980s, people in the U. S. government sold weapons to people in Iran and gave the money to \"contra\" soldiers in Nicaragua.\n",
      "no span found for college in What it is is the next big idea on the \"send Sue to college\" plan.\n",
      "no span found for mrs. cameron's face in Something in the girl 's last sentence or the tone in which it was uttered brought a look of pain to Mrs. Cameron 's face.\n",
      "no span found for a shed , empty house , or outlying buildings in Instead, a temple or \"Death House\" for spinsters was built or families take their daughter to a shed, empty house, or outlying buildings to die.\n",
      "no span found for the gulf in Britain is to send four ships which took part in the Falklands War, to carry the desert rats to the Gulf: Sir Tristram, Sir Galahad, Sir Bevedere and er Sir Bedevere  and Sir Percival are expected to start picking up tanks from West Germany in the next few weeks.\n",
      "no span found for councillors , to myself , to my staff in From that moment in time they will have the opportunity to express their views to Councillors, to myself, to my staff.\n",
      "no span found for the lieutenant , who , turning to the ranks , pointed to four of the men nearest him and transmitted the order to them in The Captain said a few words to the Lieutenant, who, turning to the ranks, pointed to four of the men nearest him and transmitted the order to them.\n",
      "no span found for her friend , a mrs. nakagawa in She gave it to her friend, a Mrs. Nakagawa.\n",
      "no span found for software development clients , enterprise businesses , devops , system admins , developers in Cloud Jelastic (acronym for Java Elastic) is an unlimited PaaS and Container based IaaS within a single platform that provides high availability of applications, automatic vertical and horizontal scaling via containerization to software development clients, enterprise businesses, DevOps, System Admins, Developers\n",
      "no span found for everybody , the home office , everywhere in We've sent letters to everybody, the Home Office, everywhere, and  to say why have they put it up in the middle of an estate.\n",
      "no span found for cardinal albrecht , archbishop of mainz in He also painted a table top (now in the Louvre ) for Cardinal Albrecht, Archbishop of Mainz.\n",
      "no span found for a \" marwari , \" or money-lender at raipur in Many years ago a Bunjara Naik, or headman of the clan of Bunjaras, or wandering traders, owed money to a \"Marwari, \" or money-lender at Raipur.\n",
      "no span found for passages that manifest the firmness of these people without also indicating wherein this firmness has been overrated in On the other hand, Bossuet strongly contended that heretics could not be too severely dealt with: \"It is dangerous to call attention to passages that manifest the firmness of these people without also indicating wherein this firmness has been overrated: otherwise they are credited with a moral steadfastness which elicits sympathy and leads to their being excused\".\n",
      "no span found for peoples ' attention in erm Now, perhaps we come back to what can we do at this end, and I think Friends of the Earth has done an excellent job in bringing it to peoples' attention that large areas of tropical forest are being destroyed at roughly the rate of 0. 7 or 0. 8 percent of the forest each year, erm and they, you know I'm in agreement with them on the fact that forest is disappearing, it's dangerous in many places, it's catastrophic in some, for instance, particularly in West Africa, the clearing that's gone on in the Ivory Coast is pretty disastrous, and erm there are indications that the West African strip of forest along the strip of the West African Coast by removing that you're going to make not only that area slightly drier, but mainly the northern areas of those countries, and the  drier, so it may well affect climate.\n",
      "no span found for our queen of the beach winner and the runner up , who are currently on the beach shooting their sexy , sexy photo shoot in I just want to take a brief timeout to give a shout-out to our queen of the beach winner and the runner up, who are currently on the beach shooting their sexy, sexy photo shoot.\n",
      "no span found for a new segment within your show where we 'll hand-pick lifestyle pieces that bridge in From there, we'll introduce the audience to a new segment within your show where we'll hand-pick lifestyle pieces that bridge\n",
      "no span found for families , especially pregnant women in These guidelines include showing community support and active participation in executing this program, conducting regular quick surveys of all families, organizing pre-school activities, providing health and nutrition education to families, especially pregnant women, motivating families to adopt family planning, educating parents about child growth and development, assisting in the implementation and execution of Kishori Shakti Yojana, educating teenage girls and parents by organizing social awareness programs, and identifying disabilities in children.\n",
      "no span found for joseph higbee ( or higby ) in Sanger sold the portion east of Sauquoit Creek, thought to be, to Joseph Higbee (or Higby), within a year, for $500 (one dollar/acre), a shrewd deal netting him the land where the majority of New Hartford's commercial development occurred for no cost.\n",
      "no span found for its poetic content in These two kindred legends MacDowell has welded into a coherent and satisfying whole; and in a verse with which he prefixes the sonata, he gives this index to its poetic content:\n",
      "no span found for mr. robertson ’s theory in Moreover, supposing that the marsh was not embanked by the Britons, there was ‘sufficient land uncovered by water to be denominated Ruimen’ twice every day, when the tide was low, before the Rhee Wall was made; and the name lends no support to Mr. Robertson’s theory.\n",
      "no span found for those words , which struck the eyes and ears of his nephew forcibly in As he bent his head in his most courtly manner, there was a secrecy in his smiling face, and he conveyed an air of mystery to those words, which struck the eyes and ears of his nephew forcibly.\n",
      "no span found for napoleon ’s step-son , eugène beauharnais , the viceroy of the kingdom of italy in After showing the automaton in various cities of Europe, Maelzel sold it to Napoleon’s step-son, Eugène Beauharnais, the Viceroy of the Kingdom of Italy.\n",
      "no span found for a shrill scream of fear and agony that might have been heard , so loud and resonant was it , fully a mile away in A horrible expression of mingled rage and pain crossed his distorted face, and he gave utterance to a shrill scream of fear and agony that might have been heard, so loud and resonant was it, fully a mile away.\n",
      "no span found for \" variety \" in Brian Lowry wrote a mild review for \"Variety\" by saying, \"Too many reality shows have the chutzpah to refer to themselves as “experiments, ” but the issues broached by \"Friends to Lovers? \"\n",
      "no span found for plants that like shade , for example coffee , cocoa , nutmeg or black pepper in In Asia, bananas are often planted to provide shade to plants that like shade, for example coffee, cocoa, nutmeg or black pepper.\n",
      "no span found for stephen , who was standing motionless beside his chair in Then she raised her eyes, slowly, to Stephen, who was standing motionless beside his chair.\n",
      "no span found for a \" competent tribunal , officer , or person \" in The American legal system defines perjury as saying anything knowingly false under oath to a \"competent tribunal, officer, or person\".\n",
      "no span found for body parts other than the lungs , like the brachial artery in the arm in Usually, \"blood pressure\" measures the pressure in larger arteries delivering blood to body parts other than the lungs, like the brachial artery in the arm.\n",
      "no span found for the dean . . . or the police in Most men would have reported me to the dean... or the police.\n",
      "no span found for ac / dc in A fan in Cleveland, Ohio had sent a Geordie album to AC/DC after Bon Scott's death.\n",
      "no span found for his grand vizier ( chief minister ) and son-in-law , mehmed sokullu in He assigned affairs of state to his grand vizier (chief minister) and son-in-law, Mehmed Sokullu.\n",
      "no span found for the watering holes , outside the walls in Take them to the watering holes, outside the walls?\n",
      "no span found for many of his former assistant directors including juhn jai-hong ( \" beautiful \" and \" poongsan \" ) and jang hoon ( \" rough cut \" ) in Kim wrote scripts to many of his former assistant directors including Juhn Jai-hong (\"Beautiful\" and \"Poongsan\") and Jang Hoon (\"Rough Cut\").\n",
      "no span found for the ministry of education in damavand county , tehran in He has also donated 15, 000 square meters of land to the Ministry of Education in Damavand County, Tehran.\n",
      "no span found for a cossack , who would bring him the head of napoleon in In order to maintain the morale of the Cossacks, the Tsar has promised to give the hand of his daughter, the Grand Duchess, to a Cossack, who would bring him the head of Napoleon.\n",
      "no span found for two practising physicians of new york , dr. w. golden mortimer , an ex-conjurer , and dr. saram r. ellison , the collector of magic literature in This society owes its foundation to two practising physicians of New York, Dr. W. Golden Mortimer, an ex-conjurer, and Dr. Saram R. Ellison, the collector of magic literature.\n",
      "no span found for a one-year , us$ 300 , 000 contract in Despite doubts he would be capable of returning, the Canadiens signed him to a one-year, US$300, 000 contract.\n",
      "no span found for his own private apartment of three rooms : his bed-chamber and two others in This thrown open, admitted him to his own private apartment of three rooms: his bed-chamber and two others.\n",
      "no span found for the station , four miles off in It was not snowing in the early morning, and Uncle Leopold drove Aunt Cyrilla and Lucy Rose and the basket to the station, four miles off.\n",
      "no span found for supreme chancellor palpatine , the public identity of darth sidious in Many people in the Republic were scared of the Separatists, so they voted to give emergency powers to Supreme Chancellor Palpatine, the public identity of Darth Sidious.\n",
      "no span found for her brother , tahei in Don't say anything to her brother, Tahei.\n",
      "no span found for the pathology department of the yale medical school , which later gave them to the library in Parker left these portraits to the Pathology Department of the Yale Medical School, which later gave them to the Library.\n",
      "no span found for the \" river \" in East-west trending faults and the karst topography may have some role in supplying water to the \"river\".\n",
      "no span found for the fleet sonar school , key west in \"Brough\", after a short stay in Newport, Rhode Island left in early June for Key West, Florida, where she reported to provide services to the Fleet Sonar School, Key West.\n",
      "no span found for alexandria ’s surgeon in Rick carries Carl to Alexandria’s surgeon.\n",
      "no span found for many of the senators and their men , men who once considered him an enemy in Nor did Ptolemy take into account that Caesar was granting many of the senators and their men, men who once considered him an enemy amnesty.\n",
      "no span found for nearby countries , especially japan , korea , and vietnam in In East Asia, since China introduced nearby countries, especially japan, korea, and vietnam writing.\n",
      "no span found for the black-foot chief , dull knife , where he lived on the banks of the little bighorn in Coldheart had sent the black-foot chief, dull knife, where he lived on the banks of the little bighorn twenty ponies.\n",
      "no span found for a place where all around would respect her , and where every pleasure would surround her in The King retorted that her opposition filled him with despair, but that he hoped to carry a place where all around would respect her, and where every pleasure would surround her her.\n",
      "no span found for his son richard , who later became king richard ii of england in He asked his father to give his son richard, who later became king richard ii of england the title Prince of Wales.\n",
      "no span found for churches where the architects were getting rid of the central screen so that the organ could be heard better in the main part of the church ( the nave ) in He made churches where the architects were getting rid of the central screen so that the organ could be heard better in the main part of the church ( the nave ) organs.\n",
      "no span found for rajan's chachi ( shubha khote ) in Nirmala, after her husband's death starts working in a factory owned by J. V., but due to her concentrating on her small baby's cry, she is thrown out by the factory management and to earn money she gets into the club dancer profession and sends rajan's chachi ( shubha khote ) her child.\n",
      "no span found for homeless shelters , low income senior centers , hospitals , and under-privileged classrooms throughout the united states in As of December 2017 the company has donated homeless shelters, low income senior centers, hospitals, and under-privileged classrooms throughout the united states nearly 100, 000 socks.\n",
      "no span found for paramount pictures , which will distribute all of miramax's movies in In 2019, beIN sold paramount pictures, which will distribute all of miramax's movies 49 percent of Miramax.\n",
      "no span found for cassady , who did not give kerouac the reaction he expected in Kerouac delivered cassady, who did not give kerouac the reaction he expected one of the first printed copies of \"On the Road\" in person.\n",
      "no span found for the wolves , panthers , and other beasts of prey that infested the forest in He only took the choicest portions of the deer, which he rolled carefully up in the skin, leaving the wolves, panthers, and other beasts of prey that infested the forest the remainder.\n",
      "no span found for san francisco , where bakshi stayed with crumb and his wife dana in an attempt to persuade crumb to sign the contract in Krantz sent san francisco, where bakshi stayed with crumb and his wife dana in an attempt to persuade crumb to sign the contract Bakshi.\n",
      "no span found for a shed , empty house , or outlying buildings in Instead, a temple or \"Death House\" for spinsters was built or families take a shed, empty house, or outlying buildings their daughter to die.\n",
      "no span found for councillors , to myself , to my staff in From that moment in time they will have the opportunity to express councillors, to myself, to my staff their views.\n",
      "no span found for the lieutenant , who , turning to the ranks , pointed to four of the men nearest him and transmitted the order to them in The Captain said the lieutenant, who, turning to the ranks, pointed to four of the men nearest him and transmitted the order to them a few words.\n",
      "no span found for her friend , a mrs. nakagawa in She gave her friend, a mrs. nakagawa it \n",
      "no span found for software development clients , enterprise businesses , devops , system admins , developers in Cloud Jelastic (acronym for Java Elastic) is an unlimited PaaS and Container based IaaS within a single platform that provides software development clients, enterprise businesses, devops, system admins, developers high availability of applications, automatic vertical and horizontal scaling via containerization \n",
      "no span found for everybody , the home office , everywhere in We've sent everybody, the home office, everywhere letters, and  to say why have they put it up in the middle of an estate.\n",
      "no span found for the indian government in He played a key role in selling 'the indian government military jets with Rolls-Royce engines.\n",
      "no span found for cardinal albrecht , archbishop of mainz in He also painted cardinal albrecht, archbishop of mainz a table top (now in the Louvre ).\n",
      "no span found for a \" marwari , \" or money-lender at raipur in Many years ago a Bunjara Naik, or headman of the clan of Bunjaras, or wandering traders, owed a \" marwari, \" or money-lender at raipur money.\n",
      "no span found for our queen of the beach winner and the runner up , who are currently on the beach shooting their sexy , sexy photo shoot in I just want to take a brief timeout to give our queen of the beach winner and the runner up, who are currently on the beach shooting their sexy, sexy photo shoot a shout-out.\n",
      "no span found for families , especially pregnant women in These guidelines include showing community support and active participation in executing this program, conducting regular quick surveys of all families, organizing pre-school activities, providing families, especially pregnant women health and nutrition education, motivating families to adopt family planning, educating parents about child growth and development, assisting in the implementation and execution of Kishori Shakti Yojana, educating teenage girls and parents by organizing social awareness programs, and identifying disabilities in children.\n",
      "no span found for joseph higbee ( or higby ) in Sanger sold joseph higbee ( or higby ) the portion east of Sauquoit Creek, thought to be,, within a year, for $500 (one dollar/acre), a shrewd deal netting him the land where the majority of New Hartford's commercial development occurred for no cost.\n",
      "no span found for peter in It was a thin, almost flat marble slab delicately carved with the scene of Jesus giving \"peter the Keys\".\n",
      "no span found for those words , which struck the eyes and ears of his nephew forcibly in As he bent his head in his most courtly manner, there was a secrecy in his smiling face, and he conveyed those words, which struck the eyes and ears of his nephew forcibly an air of mystery.\n",
      "no span found for napoleon ’s step-son , eugène beauharnais , the viceroy of the kingdom of italy in After showing the automaton in various cities of Europe, Maelzel sold napoleon ’s step-son, eugène beauharnais, the viceroy of the kingdom of italy it.\n",
      "no span found for a shrill scream of fear and agony that might have been heard , so loud and resonant was it , fully a mile away in A horrible expression of mingled rage and pain crossed his distorted face, and he gave a shrill scream of fear and agony that might have been heard, so loud and resonant was it, fully a mile away utterance.\n",
      "no span found for plants that like shade , for example coffee , cocoa , nutmeg or black pepper in In Asia, bananas are often planted to provide plants that like shade, for example coffee, cocoa, nutmeg or black pepper shade.\n",
      "no span found for stephen , who was standing motionless beside his chair in Then she raised stephen, who was standing motionless beside his chair her eyes, slowly,.\n",
      "no span found for a \" competent tribunal , officer , or person \" in The American legal system defines perjury as saying a \" competent tribunal, officer, or person \" anything knowingly false under oath.\n",
      "no span found for body parts other than the lungs , like the brachial artery in the arm in Usually, \"blood pressure\" measures the pressure in larger arteries delivering body parts other than the lungs, like the brachial artery in the arm blood.\n",
      "no span found for the dean . . . or the police in Most men would have reported the dean... or the police me.\n",
      "no span found for his grand vizier ( chief minister ) and son-in-law , mehmed sokullu in He assigned his grand vizier ( chief minister ) and son-in-law, mehmed sokullu affairs of state.\n",
      "no span found for the watering holes , outside the walls in Take the watering holes, outside the walls them?\n",
      "no span found for many of his former assistant directors including juhn jai-hong ( \" beautiful \" and \" poongsan \" ) and jang hoon ( \" rough cut \" ) in Kim wrote many of his former assistant directors including juhn jai-hong ( \" beautiful \" and \" poongsan \" ) and jang hoon ( \" rough cut \" ) scripts.\n",
      "no span found for the ministry of education in damavand county , tehran in He has also donated the ministry of education in damavand county, tehran 15, 000 square meters of land.\n",
      "no span found for a cossack , who would bring him the head of napoleon in In order to maintain the morale of the Cossacks, the Tsar has promised to give a cossack, who would bring him the head of napoleon the hand of his daughter, the Grand Duchess,.\n",
      "no span found for two practising physicians of new york , dr. w. golden mortimer , an ex-conjurer , and dr. saram r. ellison , the collector of magic literature in This society owes two practising physicians of new york, dr. w. golden mortimer, an ex-conjurer, and dr. saram r. ellison, the collector of magic literature its foundation \n",
      "no span found for a one-year , us$ 300 , 000 contract in Despite doubts he would be capable of returning, the Canadiens signed a one-year, us$ 300, 000 contract him.\n",
      "no span found for the station , four miles off in It was not snowing in the early morning, and Uncle Leopold drove the station, four miles off Aunt Cyrilla and Lucy Rose and the basket.\n",
      "no span found for supreme chancellor palpatine , the public identity of darth sidious in Many people in the Republic were scared of the Separatists, so they voted to give supreme chancellor palpatine, the public identity of darth sidious emergency powers.\n",
      "no span found for her brother , tahei in Don't say her brother, tahei anything.\n",
      "no span found for the pathology department of the yale medical school , which later gave them to the library in Parker left the pathology department of the yale medical school, which later gave them to the library these portraits.\n",
      "no span found for the fleet sonar school , key west in \"Brough\", after a short stay in Newport, Rhode Island left in early June for Key West, Florida, where she reported to provide the fleet sonar school, key west services.\n"
     ]
    }
   ],
   "source": [
    "# have to convert the 'words' to spans\n",
    "datasets = [do_list_natural, do_list_alternate, po_list_natural, po_list_alternate]\n",
    "datasets_spans = []\n",
    "for set in datasets:\n",
    "    new_data = []\n",
    "    for pair in set:\n",
    "        sentence = pair[0]\n",
    "        word = pair[1]\n",
    "\n",
    "        # get the word's span\n",
    "        wordspan = _find_word_form(word, sentence)\n",
    "        if wordspan: \n",
    "            new_data.append((sentence, torch.tensor(wordspan)))\n",
    "        else:\n",
    "            print(f\"no span found for {word} in {sentence}\")\n",
    "    datasets_spans.append(new_data)"
   ]
  },
  {
   "cell_type": "code",
   "execution_count": 49,
   "metadata": {},
   "outputs": [
    {
     "data": {
      "text/plain": [
       "True"
      ]
     },
     "execution_count": 49,
     "metadata": {},
     "output_type": "execute_result"
    }
   ],
   "source": [
    "\"the members of the sarcastic gamer community (the forums)\" in \"The Sarcastic Gamer Community Podcast is not a podcast, but an initiative designed to give the members of the Sarcastic Gamer Community (the forums) a chance to make their own podcast and have it featured on the site.\".lower()"
   ]
  },
  {
   "cell_type": "code",
   "execution_count": 85,
   "metadata": {},
   "outputs": [
    {
     "data": {
      "text/plain": [
       "993"
      ]
     },
     "execution_count": 85,
     "metadata": {},
     "output_type": "execute_result"
    }
   ],
   "source": [
    "len(datasets_spans[0])"
   ]
  },
  {
   "cell_type": "code",
   "execution_count": 53,
   "metadata": {},
   "outputs": [
    {
     "data": {
      "text/plain": [
       "[]"
      ]
     },
     "execution_count": 53,
     "metadata": {},
     "output_type": "execute_result"
    }
   ],
   "source": [
    "re.findall(\"the members of the sarcastic gamer community (the forums)\", \"The Sarcastic Gamer Community Podcast is not a podcast, but an initiative designed to give the members of the Sarcastic Gamer Community (the forums) a chance to make their own podcast and have it featured on the site.\".lower())"
   ]
  },
  {
   "cell_type": "code",
   "execution_count": null,
   "metadata": {},
   "outputs": [
    {
     "name": "stderr",
     "output_type": "stream",
     "text": [
      "100%|██████████| 63/63 [00:09<00:00,  6.63it/s]\n",
      "100%|██████████| 63/63 [00:09<00:00,  6.68it/s]\n",
      "100%|██████████| 59/59 [00:09<00:00,  6.19it/s]\n",
      "100%|██████████| 60/60 [00:09<00:00,  6.17it/s]\n",
      "100%|██████████| 63/63 [02:53<00:00,  2.76s/it]\n",
      "100%|██████████| 63/63 [02:53<00:00,  2.75s/it]\n",
      "100%|██████████| 59/59 [02:54<00:00,  2.96s/it]\n",
      "100%|██████████| 60/60 [02:58<00:00,  2.98s/it]\n",
      "  0%|          | 0/63 [00:00<?, ?it/s]\n"
     ]
    },
    {
     "ename": "RuntimeError",
     "evalue": "Expected all tensors to be on the same device, but found at least two devices, cuda:1 and cpu! (when checking argument for argument mat1 in method wrapper_CUDA_addmm)",
     "output_type": "error",
     "traceback": [
      "\u001b[0;31m---------------------------------------------------------------------------\u001b[0m",
      "\u001b[0;31mRuntimeError\u001b[0m                              Traceback (most recent call last)",
      "Cell \u001b[0;32mIn[103], line 44\u001b[0m\n\u001b[1;32m     42\u001b[0m \u001b[38;5;66;03m# perform prediction on this embedding\u001b[39;00m\n\u001b[1;32m     43\u001b[0m my_mo \u001b[38;5;241m=\u001b[39m classifiers[layer]\n\u001b[0;32m---> 44\u001b[0m pred \u001b[38;5;241m=\u001b[39m torch\u001b[38;5;241m.\u001b[39mnn\u001b[38;5;241m.\u001b[39mfunctional\u001b[38;5;241m.\u001b[39mrelu(\u001b[43mmy_mo\u001b[49m\u001b[43m(\u001b[49m\u001b[43memb\u001b[49m\u001b[43m)\u001b[49m)\n\u001b[1;32m     45\u001b[0m pred \u001b[38;5;241m=\u001b[39m pred\u001b[38;5;241m.\u001b[39msqueeze(\u001b[38;5;241m0\u001b[39m)\n\u001b[1;32m     46\u001b[0m \u001b[38;5;66;03m# add this to the calculation\u001b[39;00m\n",
      "File \u001b[0;32m~/semantic-features/model.py:90\u001b[0m, in \u001b[0;36mFeatureNormPredictor.__call__\u001b[0;34m(self, input)\u001b[0m\n\u001b[1;32m     89\u001b[0m \u001b[38;5;28;01mdef\u001b[39;00m \u001b[38;5;21m__call__\u001b[39m(\u001b[38;5;28mself\u001b[39m, \u001b[38;5;28minput\u001b[39m):\n\u001b[0;32m---> 90\u001b[0m     \u001b[38;5;28;01mreturn\u001b[39;00m \u001b[38;5;28;43mself\u001b[39;49m\u001b[38;5;241;43m.\u001b[39;49m\u001b[43mmodel\u001b[49m\u001b[43m(\u001b[49m\u001b[38;5;28;43minput\u001b[39;49m\u001b[43m)\u001b[49m\n",
      "File \u001b[0;32m~/.conda/envs/jwalenv/lib/python3.11/site-packages/torch/nn/modules/module.py:1518\u001b[0m, in \u001b[0;36mModule._wrapped_call_impl\u001b[0;34m(self, *args, **kwargs)\u001b[0m\n\u001b[1;32m   1516\u001b[0m     \u001b[38;5;28;01mreturn\u001b[39;00m \u001b[38;5;28mself\u001b[39m\u001b[38;5;241m.\u001b[39m_compiled_call_impl(\u001b[38;5;241m*\u001b[39margs, \u001b[38;5;241m*\u001b[39m\u001b[38;5;241m*\u001b[39mkwargs)  \u001b[38;5;66;03m# type: ignore[misc]\u001b[39;00m\n\u001b[1;32m   1517\u001b[0m \u001b[38;5;28;01melse\u001b[39;00m:\n\u001b[0;32m-> 1518\u001b[0m     \u001b[38;5;28;01mreturn\u001b[39;00m \u001b[38;5;28;43mself\u001b[39;49m\u001b[38;5;241;43m.\u001b[39;49m\u001b[43m_call_impl\u001b[49m\u001b[43m(\u001b[49m\u001b[38;5;241;43m*\u001b[39;49m\u001b[43margs\u001b[49m\u001b[43m,\u001b[49m\u001b[43m \u001b[49m\u001b[38;5;241;43m*\u001b[39;49m\u001b[38;5;241;43m*\u001b[39;49m\u001b[43mkwargs\u001b[49m\u001b[43m)\u001b[49m\n",
      "File \u001b[0;32m~/.conda/envs/jwalenv/lib/python3.11/site-packages/torch/nn/modules/module.py:1527\u001b[0m, in \u001b[0;36mModule._call_impl\u001b[0;34m(self, *args, **kwargs)\u001b[0m\n\u001b[1;32m   1522\u001b[0m \u001b[38;5;66;03m# If we don't have any hooks, we want to skip the rest of the logic in\u001b[39;00m\n\u001b[1;32m   1523\u001b[0m \u001b[38;5;66;03m# this function, and just call forward.\u001b[39;00m\n\u001b[1;32m   1524\u001b[0m \u001b[38;5;28;01mif\u001b[39;00m \u001b[38;5;129;01mnot\u001b[39;00m (\u001b[38;5;28mself\u001b[39m\u001b[38;5;241m.\u001b[39m_backward_hooks \u001b[38;5;129;01mor\u001b[39;00m \u001b[38;5;28mself\u001b[39m\u001b[38;5;241m.\u001b[39m_backward_pre_hooks \u001b[38;5;129;01mor\u001b[39;00m \u001b[38;5;28mself\u001b[39m\u001b[38;5;241m.\u001b[39m_forward_hooks \u001b[38;5;129;01mor\u001b[39;00m \u001b[38;5;28mself\u001b[39m\u001b[38;5;241m.\u001b[39m_forward_pre_hooks\n\u001b[1;32m   1525\u001b[0m         \u001b[38;5;129;01mor\u001b[39;00m _global_backward_pre_hooks \u001b[38;5;129;01mor\u001b[39;00m _global_backward_hooks\n\u001b[1;32m   1526\u001b[0m         \u001b[38;5;129;01mor\u001b[39;00m _global_forward_hooks \u001b[38;5;129;01mor\u001b[39;00m _global_forward_pre_hooks):\n\u001b[0;32m-> 1527\u001b[0m     \u001b[38;5;28;01mreturn\u001b[39;00m \u001b[43mforward_call\u001b[49m\u001b[43m(\u001b[49m\u001b[38;5;241;43m*\u001b[39;49m\u001b[43margs\u001b[49m\u001b[43m,\u001b[49m\u001b[43m \u001b[49m\u001b[38;5;241;43m*\u001b[39;49m\u001b[38;5;241;43m*\u001b[39;49m\u001b[43mkwargs\u001b[49m\u001b[43m)\u001b[49m\n\u001b[1;32m   1529\u001b[0m \u001b[38;5;28;01mtry\u001b[39;00m:\n\u001b[1;32m   1530\u001b[0m     result \u001b[38;5;241m=\u001b[39m \u001b[38;5;28;01mNone\u001b[39;00m\n",
      "File \u001b[0;32m~/semantic-features/model.py:44\u001b[0m, in \u001b[0;36mFFNModule.forward\u001b[0;34m(self, x)\u001b[0m\n\u001b[1;32m     43\u001b[0m \u001b[38;5;28;01mdef\u001b[39;00m \u001b[38;5;21mforward\u001b[39m(\u001b[38;5;28mself\u001b[39m, x):\n\u001b[0;32m---> 44\u001b[0m     \u001b[38;5;28;01mreturn\u001b[39;00m \u001b[38;5;28;43mself\u001b[39;49m\u001b[38;5;241;43m.\u001b[39;49m\u001b[43mnetwork\u001b[49m\u001b[43m(\u001b[49m\u001b[43mx\u001b[49m\u001b[43m)\u001b[49m\n",
      "File \u001b[0;32m~/.conda/envs/jwalenv/lib/python3.11/site-packages/torch/nn/modules/module.py:1518\u001b[0m, in \u001b[0;36mModule._wrapped_call_impl\u001b[0;34m(self, *args, **kwargs)\u001b[0m\n\u001b[1;32m   1516\u001b[0m     \u001b[38;5;28;01mreturn\u001b[39;00m \u001b[38;5;28mself\u001b[39m\u001b[38;5;241m.\u001b[39m_compiled_call_impl(\u001b[38;5;241m*\u001b[39margs, \u001b[38;5;241m*\u001b[39m\u001b[38;5;241m*\u001b[39mkwargs)  \u001b[38;5;66;03m# type: ignore[misc]\u001b[39;00m\n\u001b[1;32m   1517\u001b[0m \u001b[38;5;28;01melse\u001b[39;00m:\n\u001b[0;32m-> 1518\u001b[0m     \u001b[38;5;28;01mreturn\u001b[39;00m \u001b[38;5;28;43mself\u001b[39;49m\u001b[38;5;241;43m.\u001b[39;49m\u001b[43m_call_impl\u001b[49m\u001b[43m(\u001b[49m\u001b[38;5;241;43m*\u001b[39;49m\u001b[43margs\u001b[49m\u001b[43m,\u001b[49m\u001b[43m \u001b[49m\u001b[38;5;241;43m*\u001b[39;49m\u001b[38;5;241;43m*\u001b[39;49m\u001b[43mkwargs\u001b[49m\u001b[43m)\u001b[49m\n",
      "File \u001b[0;32m~/.conda/envs/jwalenv/lib/python3.11/site-packages/torch/nn/modules/module.py:1527\u001b[0m, in \u001b[0;36mModule._call_impl\u001b[0;34m(self, *args, **kwargs)\u001b[0m\n\u001b[1;32m   1522\u001b[0m \u001b[38;5;66;03m# If we don't have any hooks, we want to skip the rest of the logic in\u001b[39;00m\n\u001b[1;32m   1523\u001b[0m \u001b[38;5;66;03m# this function, and just call forward.\u001b[39;00m\n\u001b[1;32m   1524\u001b[0m \u001b[38;5;28;01mif\u001b[39;00m \u001b[38;5;129;01mnot\u001b[39;00m (\u001b[38;5;28mself\u001b[39m\u001b[38;5;241m.\u001b[39m_backward_hooks \u001b[38;5;129;01mor\u001b[39;00m \u001b[38;5;28mself\u001b[39m\u001b[38;5;241m.\u001b[39m_backward_pre_hooks \u001b[38;5;129;01mor\u001b[39;00m \u001b[38;5;28mself\u001b[39m\u001b[38;5;241m.\u001b[39m_forward_hooks \u001b[38;5;129;01mor\u001b[39;00m \u001b[38;5;28mself\u001b[39m\u001b[38;5;241m.\u001b[39m_forward_pre_hooks\n\u001b[1;32m   1525\u001b[0m         \u001b[38;5;129;01mor\u001b[39;00m _global_backward_pre_hooks \u001b[38;5;129;01mor\u001b[39;00m _global_backward_hooks\n\u001b[1;32m   1526\u001b[0m         \u001b[38;5;129;01mor\u001b[39;00m _global_forward_hooks \u001b[38;5;129;01mor\u001b[39;00m _global_forward_pre_hooks):\n\u001b[0;32m-> 1527\u001b[0m     \u001b[38;5;28;01mreturn\u001b[39;00m \u001b[43mforward_call\u001b[49m\u001b[43m(\u001b[49m\u001b[38;5;241;43m*\u001b[39;49m\u001b[43margs\u001b[49m\u001b[43m,\u001b[49m\u001b[43m \u001b[49m\u001b[38;5;241;43m*\u001b[39;49m\u001b[38;5;241;43m*\u001b[39;49m\u001b[43mkwargs\u001b[49m\u001b[43m)\u001b[49m\n\u001b[1;32m   1529\u001b[0m \u001b[38;5;28;01mtry\u001b[39;00m:\n\u001b[1;32m   1530\u001b[0m     result \u001b[38;5;241m=\u001b[39m \u001b[38;5;28;01mNone\u001b[39;00m\n",
      "File \u001b[0;32m~/.conda/envs/jwalenv/lib/python3.11/site-packages/torch/nn/modules/container.py:215\u001b[0m, in \u001b[0;36mSequential.forward\u001b[0;34m(self, input)\u001b[0m\n\u001b[1;32m    213\u001b[0m \u001b[38;5;28;01mdef\u001b[39;00m \u001b[38;5;21mforward\u001b[39m(\u001b[38;5;28mself\u001b[39m, \u001b[38;5;28minput\u001b[39m):\n\u001b[1;32m    214\u001b[0m     \u001b[38;5;28;01mfor\u001b[39;00m module \u001b[38;5;129;01min\u001b[39;00m \u001b[38;5;28mself\u001b[39m:\n\u001b[0;32m--> 215\u001b[0m         \u001b[38;5;28minput\u001b[39m \u001b[38;5;241m=\u001b[39m \u001b[43mmodule\u001b[49m\u001b[43m(\u001b[49m\u001b[38;5;28;43minput\u001b[39;49m\u001b[43m)\u001b[49m\n\u001b[1;32m    216\u001b[0m     \u001b[38;5;28;01mreturn\u001b[39;00m \u001b[38;5;28minput\u001b[39m\n",
      "File \u001b[0;32m~/.conda/envs/jwalenv/lib/python3.11/site-packages/torch/nn/modules/module.py:1518\u001b[0m, in \u001b[0;36mModule._wrapped_call_impl\u001b[0;34m(self, *args, **kwargs)\u001b[0m\n\u001b[1;32m   1516\u001b[0m     \u001b[38;5;28;01mreturn\u001b[39;00m \u001b[38;5;28mself\u001b[39m\u001b[38;5;241m.\u001b[39m_compiled_call_impl(\u001b[38;5;241m*\u001b[39margs, \u001b[38;5;241m*\u001b[39m\u001b[38;5;241m*\u001b[39mkwargs)  \u001b[38;5;66;03m# type: ignore[misc]\u001b[39;00m\n\u001b[1;32m   1517\u001b[0m \u001b[38;5;28;01melse\u001b[39;00m:\n\u001b[0;32m-> 1518\u001b[0m     \u001b[38;5;28;01mreturn\u001b[39;00m \u001b[38;5;28;43mself\u001b[39;49m\u001b[38;5;241;43m.\u001b[39;49m\u001b[43m_call_impl\u001b[49m\u001b[43m(\u001b[49m\u001b[38;5;241;43m*\u001b[39;49m\u001b[43margs\u001b[49m\u001b[43m,\u001b[49m\u001b[43m \u001b[49m\u001b[38;5;241;43m*\u001b[39;49m\u001b[38;5;241;43m*\u001b[39;49m\u001b[43mkwargs\u001b[49m\u001b[43m)\u001b[49m\n",
      "File \u001b[0;32m~/.conda/envs/jwalenv/lib/python3.11/site-packages/torch/nn/modules/module.py:1527\u001b[0m, in \u001b[0;36mModule._call_impl\u001b[0;34m(self, *args, **kwargs)\u001b[0m\n\u001b[1;32m   1522\u001b[0m \u001b[38;5;66;03m# If we don't have any hooks, we want to skip the rest of the logic in\u001b[39;00m\n\u001b[1;32m   1523\u001b[0m \u001b[38;5;66;03m# this function, and just call forward.\u001b[39;00m\n\u001b[1;32m   1524\u001b[0m \u001b[38;5;28;01mif\u001b[39;00m \u001b[38;5;129;01mnot\u001b[39;00m (\u001b[38;5;28mself\u001b[39m\u001b[38;5;241m.\u001b[39m_backward_hooks \u001b[38;5;129;01mor\u001b[39;00m \u001b[38;5;28mself\u001b[39m\u001b[38;5;241m.\u001b[39m_backward_pre_hooks \u001b[38;5;129;01mor\u001b[39;00m \u001b[38;5;28mself\u001b[39m\u001b[38;5;241m.\u001b[39m_forward_hooks \u001b[38;5;129;01mor\u001b[39;00m \u001b[38;5;28mself\u001b[39m\u001b[38;5;241m.\u001b[39m_forward_pre_hooks\n\u001b[1;32m   1525\u001b[0m         \u001b[38;5;129;01mor\u001b[39;00m _global_backward_pre_hooks \u001b[38;5;129;01mor\u001b[39;00m _global_backward_hooks\n\u001b[1;32m   1526\u001b[0m         \u001b[38;5;129;01mor\u001b[39;00m _global_forward_hooks \u001b[38;5;129;01mor\u001b[39;00m _global_forward_pre_hooks):\n\u001b[0;32m-> 1527\u001b[0m     \u001b[38;5;28;01mreturn\u001b[39;00m \u001b[43mforward_call\u001b[49m\u001b[43m(\u001b[49m\u001b[38;5;241;43m*\u001b[39;49m\u001b[43margs\u001b[49m\u001b[43m,\u001b[49m\u001b[43m \u001b[49m\u001b[38;5;241;43m*\u001b[39;49m\u001b[38;5;241;43m*\u001b[39;49m\u001b[43mkwargs\u001b[49m\u001b[43m)\u001b[49m\n\u001b[1;32m   1529\u001b[0m \u001b[38;5;28;01mtry\u001b[39;00m:\n\u001b[1;32m   1530\u001b[0m     result \u001b[38;5;241m=\u001b[39m \u001b[38;5;28;01mNone\u001b[39;00m\n",
      "File \u001b[0;32m~/.conda/envs/jwalenv/lib/python3.11/site-packages/torch/nn/modules/linear.py:114\u001b[0m, in \u001b[0;36mLinear.forward\u001b[0;34m(self, input)\u001b[0m\n\u001b[1;32m    113\u001b[0m \u001b[38;5;28;01mdef\u001b[39;00m \u001b[38;5;21mforward\u001b[39m(\u001b[38;5;28mself\u001b[39m, \u001b[38;5;28minput\u001b[39m: Tensor) \u001b[38;5;241m-\u001b[39m\u001b[38;5;241m>\u001b[39m Tensor:\n\u001b[0;32m--> 114\u001b[0m     \u001b[38;5;28;01mreturn\u001b[39;00m \u001b[43mF\u001b[49m\u001b[38;5;241;43m.\u001b[39;49m\u001b[43mlinear\u001b[49m\u001b[43m(\u001b[49m\u001b[38;5;28;43minput\u001b[39;49m\u001b[43m,\u001b[49m\u001b[43m \u001b[49m\u001b[38;5;28;43mself\u001b[39;49m\u001b[38;5;241;43m.\u001b[39;49m\u001b[43mweight\u001b[49m\u001b[43m,\u001b[49m\u001b[43m \u001b[49m\u001b[38;5;28;43mself\u001b[39;49m\u001b[38;5;241;43m.\u001b[39;49m\u001b[43mbias\u001b[49m\u001b[43m)\u001b[49m\n",
      "\u001b[0;31mRuntimeError\u001b[0m: Expected all tensors to be on the same device, but found at least two devices, cuda:1 and cpu! (when checking argument for argument mat1 in method wrapper_CUDA_addmm)"
     ]
    }
   ],
   "source": [
    "# extract all the embeddings and do predictions\n",
    "lms = ['bert-base-uncased', 'albert-xxlarge-v2', 'roberta-base']\n",
    "# hierarchy is model: dataset: layer: average feature prediction vector\n",
    "preds_per_model = {'bert-base-uncased': [], 'albert-xxlarge-v2': [], 'roberta-base': []}\n",
    "num_features = 65 # binder\n",
    "for model in lms:\n",
    "    # load lm for embedding extraction\n",
    "    lm = cwe.CWE(model)\n",
    "    # load my models\n",
    "    nick_name = str.split(model, \"-\")[0]\n",
    "    classifiers = []\n",
    "    for layer in range(13):\n",
    "        path = f\"saved_models/{nick_name}_models_all/{nick_name}_to_binder_layer{layer}.ckpt\"\n",
    "        my_mo = FeatureNormPredictor.load_from_checkpoint(\n",
    "            checkpoint_path=path,\n",
    "            map_location={\"cuda:1\":\"cpu\", \"cuda:2\":\"cpu\"}\n",
    "        )\n",
    "        my_mo.eval()\n",
    "        classifiers.append(my_mo)\n",
    "    \n",
    "    for set in datasets_spans:\n",
    "        # initialize a dictionary for our predictions to live in\n",
    "        layerwise_predictions = defaultdict(lambda : torch.zeros(num_features).unsqueeze(0))\n",
    "\n",
    "        dl = DataLoader(set, batch_size=16)\n",
    "        # tqdm is progress bar\n",
    "        for batch in tqdm(dl):\n",
    "            sentences, words = batch\n",
    "            batched_query = list(zip(sentences, words))\n",
    "            # we have a 3d tensor: layer: sentence: embedding\n",
    "            layer_embs = lm.extract_representation(batched_query, layer='all')\n",
    "            for layer, embs in enumerate(layer_embs):\n",
    "                for i in range(0, embs.size(0)):\n",
    "                    emb = embs[i]\n",
    "                    # this is a nan check\n",
    "                    if layer == 0:\n",
    "                        query = batched_query[i]\n",
    "                        if emb.isnan().any():\n",
    "                            print(\"nan detected in extracted embeddings, offending query:\")\n",
    "                            print(f\"query: {query}\")\n",
    "                            raise Exception(\"nan found in embedding\")\n",
    "                    # perform prediction on this embedding\n",
    "                    my_mo = classifiers[layer]\n",
    "                    pred = torch.nn.functional.relu(my_mo(emb))\n",
    "                    pred = pred.squeeze(0)\n",
    "                    # add this to the calculation\n",
    "                    layerwise_predictions[layer] += (pred/len(set))\n",
    "\n",
    "        layerwise_predictions = dict(layerwise_predictions)\n",
    "        preds_per_model[model].append(layerwise_predictions)\n"
   ]
  },
  {
   "cell_type": "code",
   "execution_count": 106,
   "metadata": {},
   "outputs": [
    {
     "data": {
      "text/plain": [
       "tensor([[2.8957, 0.5429, 0.4082, 0.8506, 1.0457, 1.0956, 1.0349, 1.3926, 2.0159,\n",
       "         0.6957, 0.6467, 2.0708, 1.0457, 1.6196, 1.9443, 1.3422, 0.4986, 1.1414,\n",
       "         1.5599, 0.4212, 1.2448, 0.7276, 0.3622, 0.4850, 1.1003, 0.4663, 1.5891,\n",
       "         0.4010, 0.6296, 1.0965, 1.4279, 0.6373, 1.6188, 0.7161, 0.5618, 1.3935,\n",
       "         1.4818, 0.5627, 0.4510, 0.7963, 0.5461, 0.7202, 0.7615, 0.5377, 0.9508,\n",
       "         1.2000, 1.4229, 1.6378, 1.2033, 1.0763, 0.9351, 2.0503, 0.9261, 1.7071,\n",
       "         0.6029, 1.4353, 0.4673, 0.4514, 0.3626, 0.4858, 0.7164, 1.2765, 1.4978,\n",
       "         1.6717, 1.4249]], grad_fn=<AsStridedBackward0>)"
      ]
     },
     "execution_count": 106,
     "metadata": {},
     "output_type": "execute_result"
    }
   ],
   "source": [
    "# checking that structure is as expected\n",
    "# embs_per_model[model][dataset][layer][int] should give a 1 d vector\n",
    "preds_per_model['bert-base-uncased'][0][8]"
   ]
  },
  {
   "cell_type": "code",
   "execution_count": 15,
   "metadata": {},
   "outputs": [
    {
     "data": {
      "text/plain": [
       "[\"I' ll give you a tip.\", 'you']"
      ]
     },
     "execution_count": 15,
     "metadata": {},
     "output_type": "execute_result"
    }
   ],
   "source": [
    "# predict features for each sentence in each list and average\n"
   ]
  }
 ],
 "metadata": {
  "kernelspec": {
   "display_name": "jwalenv",
   "language": "python",
   "name": "python3"
  },
  "language_info": {
   "codemirror_mode": {
    "name": "ipython",
    "version": 3
   },
   "file_extension": ".py",
   "mimetype": "text/x-python",
   "name": "python",
   "nbconvert_exporter": "python",
   "pygments_lexer": "ipython3",
   "version": "3.11.5"
  }
 },
 "nbformat": 4,
 "nbformat_minor": 2
}
