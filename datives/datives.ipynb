{
 "cells": [
  {
   "cell_type": "code",
   "execution_count": 2,
   "metadata": {},
   "outputs": [
    {
     "name": "stderr",
     "output_type": "stream",
     "text": [
      "/home/jjr4354/.conda/envs/jwalenv/lib/python3.11/site-packages/tqdm/auto.py:21: TqdmWarning: IProgress not found. Please update jupyter and ipywidgets. See https://ipywidgets.readthedocs.io/en/stable/user_install.html\n",
      "  from .autonotebook import tqdm as notebook_tqdm\n"
     ]
    }
   ],
   "source": [
    "import pandas as pd\n",
    "from minicons import cwe\n",
    "from torch.utils.data import DataLoader\n",
    "import torch\n",
    "from collections import defaultdict\n",
    "from tqdm import tqdm\n",
    "import re\n",
    "from model import FFNModule, FeatureNormPredictor, FFNParams, TrainingParams"
   ]
  },
  {
   "cell_type": "code",
   "execution_count": 3,
   "metadata": {},
   "outputs": [],
   "source": [
    "# first want to clean the data\n",
    "# uploading both csvs\n",
    "\n",
    "do_df = pd.read_csv(\"data/direct_object.csv\")\n",
    "po_df = pd.read_csv(\"data/prepositional.csv\")"
   ]
  },
  {
   "cell_type": "code",
   "execution_count": 4,
   "metadata": {},
   "outputs": [],
   "source": [
    "# convert csvs into lists of sentence word pairs\n",
    "do_list_natural = do_df[['sentence','recipient']].values.tolist()\n",
    "do_list_alternate = do_df[['alternant','recipient']].values.tolist()\n",
    "po_list_natural = po_df[['sentence','recipient']].values.tolist()\n",
    "po_list_alternate = po_df[['alternant','recipient']].values.tolist()"
   ]
  },
  {
   "cell_type": "code",
   "execution_count": 5,
   "metadata": {},
   "outputs": [
    {
     "data": {
      "text/plain": [
       "['Rodolfo gives Mimi the pink bonnet he bought her, which he has kept as a souvenir of their love.',\n",
       " 'mimi']"
      ]
     },
     "execution_count": 5,
     "metadata": {},
     "output_type": "execute_result"
    }
   ],
   "source": [
    "do_list_natural[1]"
   ]
  },
  {
   "cell_type": "code",
   "execution_count": 6,
   "metadata": {},
   "outputs": [
    {
     "data": {
      "text/plain": [
       "False"
      ]
     },
     "execution_count": 6,
     "metadata": {},
     "output_type": "execute_result"
    }
   ],
   "source": [
    "do_list_natural[1][1] in do_list_natural[1][0]"
   ]
  },
  {
   "cell_type": "code",
   "execution_count": 7,
   "metadata": {},
   "outputs": [],
   "source": [
    "def _find_word_form(word, sentence):\n",
    "  '''find how word occurs in sentence'''\n",
    "  matches = re.finditer(word, sentence.lower())\n",
    "  for match in matches:\n",
    "    span = match.span()\n",
    "    if (span[0] == 0 or sentence[span[0]-1] == ' ') and (span[1] == len(sentence) or sentence[span[1]] == ' ' or sentence[span[1]] == '.' or sentence[span[1]] == '!' or sentence[span[1]] == '?' or sentence[span[1]] == ',' or sentence[span[1]] == ';'):\n",
    "      return tuple(span)\n",
    "  return None\n",
    "  print(f\"no match found for {word} in {sentence}\")\n",
    "  raise Exception(\"no match found\")"
   ]
  },
  {
   "cell_type": "code",
   "execution_count": 8,
   "metadata": {},
   "outputs": [
    {
     "name": "stdout",
     "output_type": "stream",
     "text": [
      "no span found for the members of the sarcastic gamer community (the forums) in The Sarcastic Gamer Community Podcast is not a podcast, but an initiative designed to give the members of the Sarcastic Gamer Community (the forums) a chance to make their own podcast and have it featured on the site.\n",
      "no span found for the members of the sarcastic gamer community (the forums) in The Sarcastic Gamer Community Podcast is not a podcast, but an initiative designed to give a chance to make their own podcast and have it featured on the site to the members of the Sarcastic Gamer Community (the forums).\n",
      "no span found for many of the senators and their men , men who once considered him an enemy in Nor did Ptolemy take into account that Caesar was granting amnesty to many of the senators and their men, men who once considered him an enemy.\n",
      "no span found for this 40 year travesty of justice in In May 2007 West joined a demonstration against \"injustices faced by the Palestinian people resulting from the Israeli occupation\" and \"to bring attention to this 40 year travesty of justice\".\n",
      "no span found for nearby countries , especially japan , korea , and vietnam in In East Asia, since China introduced writing to nearby countries, especially Japan, Korea, and Vietnam.\n",
      "no span found for the black-foot chief , dull knife , where he lived on the banks of the little bighorn in Coldheart had sent twenty ponies to the Black-foot chief, Dull Knife, where he lived on the banks of the Little Bighorn.\n",
      "no span found for the \" city of joy \" in He takes the injured doctor to the \"City of Joy\".\n",
      "no span found for a place where all around would respect her , and where every pleasure would surround her in The King retorted that her opposition filled him with despair, but that he hoped to carry her to a place where all around would respect her, and where every pleasure would surround her.\n",
      "no span found for his son richard , who later became king richard ii of england in He asked his father to give the title Prince of Wales to his son Richard, who later became King Richard II of England.\n",
      "no span found for churches where the architects were getting rid of the central screen so that the organ could be heard better in the main part of the church ( the nave ) in He made organs for churches where the architects were getting rid of the central screen so that the organ could be heard better in the main part of the church (the nave).\n",
      "no span found for rajan's chachi ( shubha khote ) in Nirmala, after her husband's death starts working in a factory owned by J. V., but due to her concentrating on her small baby's cry, she is thrown out by the factory management and to earn money she gets into the club dancer profession and sends her child to Rajan's Chachi (Shubha Khote).\n",
      "no span found for homeless shelters , low income senior centers , hospitals , and under-privileged classrooms throughout the united states in As of December 2017 the company has donated nearly 100, 000 socks to homeless shelters, low income senior centers, hospitals, and under-privileged classrooms throughout the United States.\n",
      "no span found for the \" miami herald \" in He wrote a nationally syndicated humor column for the \"Miami Herald\" from 1983 to 2005.\n",
      "no span found for paramount pictures , which will distribute all of miramax's movies in In 2019, beIN sold 49 percent of Miramax to Paramount Pictures, which will distribute all of Miramax's movies.\n",
      "no span found for cassady , who did not give kerouac the reaction he expected in Kerouac delivered one of the first printed copies of \"On the Road\" in person to Cassady, who did not give Kerouac the reaction he expected.\n",
      "no span found for the wolves , panthers , and other beasts of prey that infested the forest in He only took the choicest portions of the deer, which he rolled carefully up in the skin, leaving the remainder to the wolves, panthers, and other beasts of prey that infested the forest.\n",
      "no span found for san francisco , where bakshi stayed with crumb and his wife dana in an attempt to persuade crumb to sign the contract in Krantz sent Bakshi to San Francisco, where Bakshi stayed with Crumb and his wife Dana in an attempt to persuade Crumb to sign the contract.\n",
      "no span found for the archbishop ’s grand vicar in In effect it was shortly as follows:-After having requested the spectators carefully to examine a large envelope sealed on all sides, I handed it to the Archbishop’s Grand Vicar, begging him to keep it in his own possession.\n",
      "no span found for \" contra \" soldiers in nicaragua in In the 1980s, people in the U. S. government sold weapons to people in Iran and gave the money to \"contra\" soldiers in Nicaragua.\n",
      "no span found for college in What it is is the next big idea on the \"send Sue to college\" plan.\n",
      "no span found for mrs. cameron's face in Something in the girl 's last sentence or the tone in which it was uttered brought a look of pain to Mrs. Cameron 's face.\n",
      "no span found for a shed , empty house , or outlying buildings in Instead, a temple or \"Death House\" for spinsters was built or families take their daughter to a shed, empty house, or outlying buildings to die.\n",
      "no span found for the gulf in Britain is to send four ships which took part in the Falklands War, to carry the desert rats to the Gulf: Sir Tristram, Sir Galahad, Sir Bevedere and er Sir Bedevere  and Sir Percival are expected to start picking up tanks from West Germany in the next few weeks.\n",
      "no span found for councillors , to myself , to my staff in From that moment in time they will have the opportunity to express their views to Councillors, to myself, to my staff.\n",
      "no span found for the lieutenant , who , turning to the ranks , pointed to four of the men nearest him and transmitted the order to them in The Captain said a few words to the Lieutenant, who, turning to the ranks, pointed to four of the men nearest him and transmitted the order to them.\n",
      "no span found for her friend , a mrs. nakagawa in She gave it to her friend, a Mrs. Nakagawa.\n",
      "no span found for software development clients , enterprise businesses , devops , system admins , developers in Cloud Jelastic (acronym for Java Elastic) is an unlimited PaaS and Container based IaaS within a single platform that provides high availability of applications, automatic vertical and horizontal scaling via containerization to software development clients, enterprise businesses, DevOps, System Admins, Developers\n",
      "no span found for everybody , the home office , everywhere in We've sent letters to everybody, the Home Office, everywhere, and  to say why have they put it up in the middle of an estate.\n",
      "no span found for cardinal albrecht , archbishop of mainz in He also painted a table top (now in the Louvre ) for Cardinal Albrecht, Archbishop of Mainz.\n",
      "no span found for a \" marwari , \" or money-lender at raipur in Many years ago a Bunjara Naik, or headman of the clan of Bunjaras, or wandering traders, owed money to a \"Marwari, \" or money-lender at Raipur.\n",
      "no span found for passages that manifest the firmness of these people without also indicating wherein this firmness has been overrated in On the other hand, Bossuet strongly contended that heretics could not be too severely dealt with: \"It is dangerous to call attention to passages that manifest the firmness of these people without also indicating wherein this firmness has been overrated: otherwise they are credited with a moral steadfastness which elicits sympathy and leads to their being excused\".\n",
      "no span found for peoples ' attention in erm Now, perhaps we come back to what can we do at this end, and I think Friends of the Earth has done an excellent job in bringing it to peoples' attention that large areas of tropical forest are being destroyed at roughly the rate of 0. 7 or 0. 8 percent of the forest each year, erm and they, you know I'm in agreement with them on the fact that forest is disappearing, it's dangerous in many places, it's catastrophic in some, for instance, particularly in West Africa, the clearing that's gone on in the Ivory Coast is pretty disastrous, and erm there are indications that the West African strip of forest along the strip of the West African Coast by removing that you're going to make not only that area slightly drier, but mainly the northern areas of those countries, and the  drier, so it may well affect climate.\n",
      "no span found for our queen of the beach winner and the runner up , who are currently on the beach shooting their sexy , sexy photo shoot in I just want to take a brief timeout to give a shout-out to our queen of the beach winner and the runner up, who are currently on the beach shooting their sexy, sexy photo shoot.\n",
      "no span found for a new segment within your show where we 'll hand-pick lifestyle pieces that bridge in From there, we'll introduce the audience to a new segment within your show where we'll hand-pick lifestyle pieces that bridge\n",
      "no span found for families , especially pregnant women in These guidelines include showing community support and active participation in executing this program, conducting regular quick surveys of all families, organizing pre-school activities, providing health and nutrition education to families, especially pregnant women, motivating families to adopt family planning, educating parents about child growth and development, assisting in the implementation and execution of Kishori Shakti Yojana, educating teenage girls and parents by organizing social awareness programs, and identifying disabilities in children.\n",
      "no span found for joseph higbee ( or higby ) in Sanger sold the portion east of Sauquoit Creek, thought to be, to Joseph Higbee (or Higby), within a year, for $500 (one dollar/acre), a shrewd deal netting him the land where the majority of New Hartford's commercial development occurred for no cost.\n",
      "no span found for its poetic content in These two kindred legends MacDowell has welded into a coherent and satisfying whole; and in a verse with which he prefixes the sonata, he gives this index to its poetic content:\n",
      "no span found for mr. robertson ’s theory in Moreover, supposing that the marsh was not embanked by the Britons, there was ‘sufficient land uncovered by water to be denominated Ruimen’ twice every day, when the tide was low, before the Rhee Wall was made; and the name lends no support to Mr. Robertson’s theory.\n",
      "no span found for those words , which struck the eyes and ears of his nephew forcibly in As he bent his head in his most courtly manner, there was a secrecy in his smiling face, and he conveyed an air of mystery to those words, which struck the eyes and ears of his nephew forcibly.\n",
      "no span found for napoleon ’s step-son , eugène beauharnais , the viceroy of the kingdom of italy in After showing the automaton in various cities of Europe, Maelzel sold it to Napoleon’s step-son, Eugène Beauharnais, the Viceroy of the Kingdom of Italy.\n",
      "no span found for a shrill scream of fear and agony that might have been heard , so loud and resonant was it , fully a mile away in A horrible expression of mingled rage and pain crossed his distorted face, and he gave utterance to a shrill scream of fear and agony that might have been heard, so loud and resonant was it, fully a mile away.\n",
      "no span found for \" variety \" in Brian Lowry wrote a mild review for \"Variety\" by saying, \"Too many reality shows have the chutzpah to refer to themselves as “experiments, ” but the issues broached by \"Friends to Lovers? \"\n",
      "no span found for plants that like shade , for example coffee , cocoa , nutmeg or black pepper in In Asia, bananas are often planted to provide shade to plants that like shade, for example coffee, cocoa, nutmeg or black pepper.\n",
      "no span found for stephen , who was standing motionless beside his chair in Then she raised her eyes, slowly, to Stephen, who was standing motionless beside his chair.\n",
      "no span found for a \" competent tribunal , officer , or person \" in The American legal system defines perjury as saying anything knowingly false under oath to a \"competent tribunal, officer, or person\".\n",
      "no span found for body parts other than the lungs , like the brachial artery in the arm in Usually, \"blood pressure\" measures the pressure in larger arteries delivering blood to body parts other than the lungs, like the brachial artery in the arm.\n",
      "no span found for the dean . . . or the police in Most men would have reported me to the dean... or the police.\n",
      "no span found for ac / dc in A fan in Cleveland, Ohio had sent a Geordie album to AC/DC after Bon Scott's death.\n",
      "no span found for his grand vizier ( chief minister ) and son-in-law , mehmed sokullu in He assigned affairs of state to his grand vizier (chief minister) and son-in-law, Mehmed Sokullu.\n",
      "no span found for the watering holes , outside the walls in Take them to the watering holes, outside the walls?\n",
      "no span found for many of his former assistant directors including juhn jai-hong ( \" beautiful \" and \" poongsan \" ) and jang hoon ( \" rough cut \" ) in Kim wrote scripts to many of his former assistant directors including Juhn Jai-hong (\"Beautiful\" and \"Poongsan\") and Jang Hoon (\"Rough Cut\").\n",
      "no span found for the ministry of education in damavand county , tehran in He has also donated 15, 000 square meters of land to the Ministry of Education in Damavand County, Tehran.\n",
      "no span found for a cossack , who would bring him the head of napoleon in In order to maintain the morale of the Cossacks, the Tsar has promised to give the hand of his daughter, the Grand Duchess, to a Cossack, who would bring him the head of Napoleon.\n",
      "no span found for two practising physicians of new york , dr. w. golden mortimer , an ex-conjurer , and dr. saram r. ellison , the collector of magic literature in This society owes its foundation to two practising physicians of New York, Dr. W. Golden Mortimer, an ex-conjurer, and Dr. Saram R. Ellison, the collector of magic literature.\n",
      "no span found for a one-year , us$ 300 , 000 contract in Despite doubts he would be capable of returning, the Canadiens signed him to a one-year, US$300, 000 contract.\n",
      "no span found for his own private apartment of three rooms : his bed-chamber and two others in This thrown open, admitted him to his own private apartment of three rooms: his bed-chamber and two others.\n",
      "no span found for the station , four miles off in It was not snowing in the early morning, and Uncle Leopold drove Aunt Cyrilla and Lucy Rose and the basket to the station, four miles off.\n",
      "no span found for supreme chancellor palpatine , the public identity of darth sidious in Many people in the Republic were scared of the Separatists, so they voted to give emergency powers to Supreme Chancellor Palpatine, the public identity of Darth Sidious.\n",
      "no span found for her brother , tahei in Don't say anything to her brother, Tahei.\n",
      "no span found for the pathology department of the yale medical school , which later gave them to the library in Parker left these portraits to the Pathology Department of the Yale Medical School, which later gave them to the Library.\n",
      "no span found for the \" river \" in East-west trending faults and the karst topography may have some role in supplying water to the \"river\".\n",
      "no span found for the fleet sonar school , key west in \"Brough\", after a short stay in Newport, Rhode Island left in early June for Key West, Florida, where she reported to provide services to the Fleet Sonar School, Key West.\n",
      "no span found for alexandria ’s surgeon in Rick carries Carl to Alexandria’s surgeon.\n",
      "no span found for many of the senators and their men , men who once considered him an enemy in Nor did Ptolemy take into account that Caesar was granting many of the senators and their men, men who once considered him an enemy amnesty.\n",
      "no span found for nearby countries , especially japan , korea , and vietnam in In East Asia, since China introduced nearby countries, especially japan, korea, and vietnam writing.\n",
      "no span found for the black-foot chief , dull knife , where he lived on the banks of the little bighorn in Coldheart had sent the black-foot chief, dull knife, where he lived on the banks of the little bighorn twenty ponies.\n",
      "no span found for a place where all around would respect her , and where every pleasure would surround her in The King retorted that her opposition filled him with despair, but that he hoped to carry a place where all around would respect her, and where every pleasure would surround her her.\n",
      "no span found for his son richard , who later became king richard ii of england in He asked his father to give his son richard, who later became king richard ii of england the title Prince of Wales.\n",
      "no span found for churches where the architects were getting rid of the central screen so that the organ could be heard better in the main part of the church ( the nave ) in He made churches where the architects were getting rid of the central screen so that the organ could be heard better in the main part of the church ( the nave ) organs.\n",
      "no span found for rajan's chachi ( shubha khote ) in Nirmala, after her husband's death starts working in a factory owned by J. V., but due to her concentrating on her small baby's cry, she is thrown out by the factory management and to earn money she gets into the club dancer profession and sends rajan's chachi ( shubha khote ) her child.\n",
      "no span found for homeless shelters , low income senior centers , hospitals , and under-privileged classrooms throughout the united states in As of December 2017 the company has donated homeless shelters, low income senior centers, hospitals, and under-privileged classrooms throughout the united states nearly 100, 000 socks.\n",
      "no span found for paramount pictures , which will distribute all of miramax's movies in In 2019, beIN sold paramount pictures, which will distribute all of miramax's movies 49 percent of Miramax.\n",
      "no span found for cassady , who did not give kerouac the reaction he expected in Kerouac delivered cassady, who did not give kerouac the reaction he expected one of the first printed copies of \"On the Road\" in person.\n",
      "no span found for the wolves , panthers , and other beasts of prey that infested the forest in He only took the choicest portions of the deer, which he rolled carefully up in the skin, leaving the wolves, panthers, and other beasts of prey that infested the forest the remainder.\n",
      "no span found for san francisco , where bakshi stayed with crumb and his wife dana in an attempt to persuade crumb to sign the contract in Krantz sent san francisco, where bakshi stayed with crumb and his wife dana in an attempt to persuade crumb to sign the contract Bakshi.\n",
      "no span found for a shed , empty house , or outlying buildings in Instead, a temple or \"Death House\" for spinsters was built or families take a shed, empty house, or outlying buildings their daughter to die.\n",
      "no span found for councillors , to myself , to my staff in From that moment in time they will have the opportunity to express councillors, to myself, to my staff their views.\n",
      "no span found for the lieutenant , who , turning to the ranks , pointed to four of the men nearest him and transmitted the order to them in The Captain said the lieutenant, who, turning to the ranks, pointed to four of the men nearest him and transmitted the order to them a few words.\n",
      "no span found for her friend , a mrs. nakagawa in She gave her friend, a mrs. nakagawa it \n",
      "no span found for software development clients , enterprise businesses , devops , system admins , developers in Cloud Jelastic (acronym for Java Elastic) is an unlimited PaaS and Container based IaaS within a single platform that provides software development clients, enterprise businesses, devops, system admins, developers high availability of applications, automatic vertical and horizontal scaling via containerization \n",
      "no span found for everybody , the home office , everywhere in We've sent everybody, the home office, everywhere letters, and  to say why have they put it up in the middle of an estate.\n",
      "no span found for the indian government in He played a key role in selling 'the indian government military jets with Rolls-Royce engines.\n",
      "no span found for cardinal albrecht , archbishop of mainz in He also painted cardinal albrecht, archbishop of mainz a table top (now in the Louvre ).\n",
      "no span found for a \" marwari , \" or money-lender at raipur in Many years ago a Bunjara Naik, or headman of the clan of Bunjaras, or wandering traders, owed a \" marwari, \" or money-lender at raipur money.\n",
      "no span found for our queen of the beach winner and the runner up , who are currently on the beach shooting their sexy , sexy photo shoot in I just want to take a brief timeout to give our queen of the beach winner and the runner up, who are currently on the beach shooting their sexy, sexy photo shoot a shout-out.\n",
      "no span found for families , especially pregnant women in These guidelines include showing community support and active participation in executing this program, conducting regular quick surveys of all families, organizing pre-school activities, providing families, especially pregnant women health and nutrition education, motivating families to adopt family planning, educating parents about child growth and development, assisting in the implementation and execution of Kishori Shakti Yojana, educating teenage girls and parents by organizing social awareness programs, and identifying disabilities in children.\n",
      "no span found for joseph higbee ( or higby ) in Sanger sold joseph higbee ( or higby ) the portion east of Sauquoit Creek, thought to be,, within a year, for $500 (one dollar/acre), a shrewd deal netting him the land where the majority of New Hartford's commercial development occurred for no cost.\n",
      "no span found for peter in It was a thin, almost flat marble slab delicately carved with the scene of Jesus giving \"peter the Keys\".\n",
      "no span found for those words , which struck the eyes and ears of his nephew forcibly in As he bent his head in his most courtly manner, there was a secrecy in his smiling face, and he conveyed those words, which struck the eyes and ears of his nephew forcibly an air of mystery.\n",
      "no span found for napoleon ’s step-son , eugène beauharnais , the viceroy of the kingdom of italy in After showing the automaton in various cities of Europe, Maelzel sold napoleon ’s step-son, eugène beauharnais, the viceroy of the kingdom of italy it.\n",
      "no span found for a shrill scream of fear and agony that might have been heard , so loud and resonant was it , fully a mile away in A horrible expression of mingled rage and pain crossed his distorted face, and he gave a shrill scream of fear and agony that might have been heard, so loud and resonant was it, fully a mile away utterance.\n",
      "no span found for plants that like shade , for example coffee , cocoa , nutmeg or black pepper in In Asia, bananas are often planted to provide plants that like shade, for example coffee, cocoa, nutmeg or black pepper shade.\n",
      "no span found for stephen , who was standing motionless beside his chair in Then she raised stephen, who was standing motionless beside his chair her eyes, slowly,.\n",
      "no span found for a \" competent tribunal , officer , or person \" in The American legal system defines perjury as saying a \" competent tribunal, officer, or person \" anything knowingly false under oath.\n",
      "no span found for body parts other than the lungs , like the brachial artery in the arm in Usually, \"blood pressure\" measures the pressure in larger arteries delivering body parts other than the lungs, like the brachial artery in the arm blood.\n",
      "no span found for the dean . . . or the police in Most men would have reported the dean... or the police me.\n",
      "no span found for his grand vizier ( chief minister ) and son-in-law , mehmed sokullu in He assigned his grand vizier ( chief minister ) and son-in-law, mehmed sokullu affairs of state.\n",
      "no span found for the watering holes , outside the walls in Take the watering holes, outside the walls them?\n",
      "no span found for many of his former assistant directors including juhn jai-hong ( \" beautiful \" and \" poongsan \" ) and jang hoon ( \" rough cut \" ) in Kim wrote many of his former assistant directors including juhn jai-hong ( \" beautiful \" and \" poongsan \" ) and jang hoon ( \" rough cut \" ) scripts.\n",
      "no span found for the ministry of education in damavand county , tehran in He has also donated the ministry of education in damavand county, tehran 15, 000 square meters of land.\n",
      "no span found for a cossack , who would bring him the head of napoleon in In order to maintain the morale of the Cossacks, the Tsar has promised to give a cossack, who would bring him the head of napoleon the hand of his daughter, the Grand Duchess,.\n",
      "no span found for two practising physicians of new york , dr. w. golden mortimer , an ex-conjurer , and dr. saram r. ellison , the collector of magic literature in This society owes two practising physicians of new york, dr. w. golden mortimer, an ex-conjurer, and dr. saram r. ellison, the collector of magic literature its foundation \n",
      "no span found for a one-year , us$ 300 , 000 contract in Despite doubts he would be capable of returning, the Canadiens signed a one-year, us$ 300, 000 contract him.\n",
      "no span found for the station , four miles off in It was not snowing in the early morning, and Uncle Leopold drove the station, four miles off Aunt Cyrilla and Lucy Rose and the basket.\n",
      "no span found for supreme chancellor palpatine , the public identity of darth sidious in Many people in the Republic were scared of the Separatists, so they voted to give supreme chancellor palpatine, the public identity of darth sidious emergency powers.\n",
      "no span found for her brother , tahei in Don't say her brother, tahei anything.\n",
      "no span found for the pathology department of the yale medical school , which later gave them to the library in Parker left the pathology department of the yale medical school, which later gave them to the library these portraits.\n",
      "no span found for the fleet sonar school , key west in \"Brough\", after a short stay in Newport, Rhode Island left in early June for Key West, Florida, where she reported to provide the fleet sonar school, key west services.\n"
     ]
    }
   ],
   "source": [
    "# have to convert the 'words' to spans\n",
    "datasets = [do_list_natural, do_list_alternate, po_list_natural, po_list_alternate]\n",
    "datasets_spans = []\n",
    "for set in datasets:\n",
    "    new_data = []\n",
    "    for pair in set:\n",
    "        sentence = pair[0]\n",
    "        word = pair[1]\n",
    "\n",
    "        # get the word's span\n",
    "        wordspan = _find_word_form(word, sentence)\n",
    "        if wordspan: \n",
    "            new_data.append((sentence, torch.tensor(wordspan)))\n",
    "        else:\n",
    "            print(f\"no span found for {word} in {sentence}\")\n",
    "    datasets_spans.append(new_data)"
   ]
  },
  {
   "cell_type": "code",
   "execution_count": 9,
   "metadata": {},
   "outputs": [
    {
     "data": {
      "text/plain": [
       "True"
      ]
     },
     "execution_count": 9,
     "metadata": {},
     "output_type": "execute_result"
    }
   ],
   "source": [
    "\"the members of the sarcastic gamer community (the forums)\" in \"The Sarcastic Gamer Community Podcast is not a podcast, but an initiative designed to give the members of the Sarcastic Gamer Community (the forums) a chance to make their own podcast and have it featured on the site.\".lower()"
   ]
  },
  {
   "cell_type": "code",
   "execution_count": 10,
   "metadata": {},
   "outputs": [
    {
     "name": "stdout",
     "output_type": "stream",
     "text": [
      "999\n",
      "999\n",
      "939\n",
      "955\n"
     ]
    }
   ],
   "source": [
    "for set in datasets_spans:\n",
    "    print(len(set))"
   ]
  },
  {
   "cell_type": "code",
   "execution_count": 11,
   "metadata": {},
   "outputs": [
    {
     "data": {
      "text/plain": [
       "[]"
      ]
     },
     "execution_count": 11,
     "metadata": {},
     "output_type": "execute_result"
    }
   ],
   "source": [
    "re.findall(\"the members of the sarcastic gamer community (the forums)\", \"The Sarcastic Gamer Community Podcast is not a podcast, but an initiative designed to give the members of the Sarcastic Gamer Community (the forums) a chance to make their own podcast and have it featured on the site.\".lower())"
   ]
  },
  {
   "cell_type": "code",
   "execution_count": 12,
   "metadata": {},
   "outputs": [
    {
     "name": "stderr",
     "output_type": "stream",
     "text": [
      "100%|██████████| 63/63 [02:24<00:00,  2.29s/it]\n",
      "100%|██████████| 63/63 [02:04<00:00,  1.97s/it]\n",
      "100%|██████████| 59/59 [01:26<00:00,  1.47s/it]\n",
      "100%|██████████| 60/60 [01:21<00:00,  1.36s/it]\n",
      "100%|██████████| 63/63 [01:26<00:00,  1.38s/it]\n",
      "100%|██████████| 63/63 [01:25<00:00,  1.35s/it]\n",
      "100%|██████████| 59/59 [01:11<00:00,  1.20s/it]\n",
      "100%|██████████| 60/60 [01:28<00:00,  1.47s/it]\n",
      "100%|██████████| 63/63 [10:16<00:00,  9.79s/it]\n",
      "100%|██████████| 63/63 [10:54<00:00, 10.39s/it]\n",
      "100%|██████████| 59/59 [10:07<00:00, 10.30s/it]\n",
      "100%|██████████| 60/60 [10:06<00:00, 10.11s/it]\n"
     ]
    }
   ],
   "source": [
    "# extract all the embeddings and do predictions\n",
    "lms = ['roberta-base', 'bert-base-uncased', 'albert-xxlarge-v2']\n",
    "# hierarchy is model: dataset: layer: average feature prediction vector\n",
    "preds_per_model = {'bert-base-uncased': [], 'albert-xxlarge-v2': [], 'roberta-base': []}\n",
    "num_features = 65 # binder\n",
    "for model in lms:\n",
    "    # load lm for embedding extraction\n",
    "    lm = cwe.CWE(model)\n",
    "    # load my models\n",
    "    nick_name = str.split(model, \"-\")[0]\n",
    "    classifiers = []\n",
    "    for layer in range(13):\n",
    "        path = f\"../saved_models/{nick_name}_models_all/{nick_name}_to_binder_layer{layer}.ckpt\"\n",
    "        my_mo = FeatureNormPredictor.load_from_checkpoint(\n",
    "            checkpoint_path=path,\n",
    "            map_location={\"cuda:1\":\"cpu\", \"cuda:2\":\"cpu\"}\n",
    "        )\n",
    "        my_mo.eval()\n",
    "        classifiers.append(my_mo)\n",
    "    \n",
    "    for set in datasets_spans:\n",
    "        # initialize a dictionary for our predictions to live in\n",
    "        layerwise_predictions = defaultdict(lambda : torch.zeros(num_features).unsqueeze(0))\n",
    "\n",
    "        dl = DataLoader(set, batch_size=16)\n",
    "        # tqdm is progress bar\n",
    "        for batch in tqdm(dl):\n",
    "            sentences, words = batch\n",
    "            batched_query = list(zip(sentences, words))\n",
    "            # we have a 3d tensor: layer: sentence: embedding\n",
    "            layer_embs = lm.extract_representation(batched_query, layer='all')\n",
    "            for layer, embs in enumerate(layer_embs):\n",
    "                for i in range(0, embs.size(0)):\n",
    "                    emb = embs[i]\n",
    "                    # this is a nan check\n",
    "                    if layer == 0:\n",
    "                        query = batched_query[i]\n",
    "                        if emb.isnan().any():\n",
    "                            print(\"nan detected in extracted embeddings, offending query:\")\n",
    "                            print(f\"query: {query}\")\n",
    "                            raise Exception(\"nan found in embedding\")\n",
    "                    # perform prediction on this embedding\n",
    "                    my_mo = classifiers[layer]\n",
    "                    pred = torch.nn.functional.relu(my_mo(emb))\n",
    "                    pred = pred.squeeze(0)\n",
    "                    # add this to the calculation\n",
    "                    layerwise_predictions[layer] += (pred/len(set))\n",
    "\n",
    "        layerwise_predictions = dict(layerwise_predictions)\n",
    "        preds_per_model[model].append(layerwise_predictions)\n"
   ]
  },
  {
   "cell_type": "code",
   "execution_count": 13,
   "metadata": {},
   "outputs": [
    {
     "data": {
      "text/plain": [
       "[3.104410171508789,\n",
       " 0.6607001423835754,\n",
       " 0.4791991710662842,\n",
       " 0.9697983860969543,\n",
       " 1.0440534353256226,\n",
       " 1.290106177330017,\n",
       " 0.9156562685966492,\n",
       " 1.3417290449142456,\n",
       " 1.911380648612976,\n",
       " 0.6414332389831543,\n",
       " 0.6304558515548706,\n",
       " 2.067289113998413,\n",
       " 1.1869393587112427,\n",
       " 1.6165096759796143,\n",
       " 1.8456848859786987,\n",
       " 1.1330486536026,\n",
       " 0.5116366147994995,\n",
       " 1.087837815284729,\n",
       " 1.5656912326812744,\n",
       " 0.5224120616912842,\n",
       " 1.1814593076705933,\n",
       " 0.6825432181358337,\n",
       " 0.3178146183490753,\n",
       " 0.42215049266815186,\n",
       " 1.0666487216949463,\n",
       " 0.4294666349887848,\n",
       " 1.5297707319259644,\n",
       " 0.35299673676490784,\n",
       " 0.7187259793281555,\n",
       " 0.9621589183807373,\n",
       " 1.3236238956451416,\n",
       " 0.6632809042930603,\n",
       " 1.4246851205825806,\n",
       " 0.8989567756652832,\n",
       " 0.5224722027778625,\n",
       " 1.7169456481933594,\n",
       " 1.2974801063537598,\n",
       " 0.5264542698860168,\n",
       " 0.40537601709365845,\n",
       " 0.7510032653808594,\n",
       " 0.7246420979499817,\n",
       " 0.900593101978302,\n",
       " 0.9529380202293396,\n",
       " 0.5424475073814392,\n",
       " 1.0276210308074951,\n",
       " 1.2942159175872803,\n",
       " 1.5347371101379395,\n",
       " 1.6463474035263062,\n",
       " 1.0405462980270386,\n",
       " 0.9594194889068604,\n",
       " 0.9339046478271484,\n",
       " 1.9880419969558716,\n",
       " 1.016884207725525,\n",
       " 1.809918761253357,\n",
       " 0.7746336460113525,\n",
       " 1.5233337879180908,\n",
       " 0.6180785894393921,\n",
       " 0.5390371680259705,\n",
       " 0.42973792552948,\n",
       " 0.6357133984565735,\n",
       " 0.7443810701370239,\n",
       " 1.358068585395813,\n",
       " 1.427268385887146,\n",
       " 1.7997066974639893,\n",
       " 1.5919396877288818]"
      ]
     },
     "execution_count": 13,
     "metadata": {},
     "output_type": "execute_result"
    }
   ],
   "source": [
    "# checking that structure is as expected\n",
    "# embs_per_model[model][dataset][layer] should give a 1 d vector\n",
    "preds_per_model['bert-base-uncased'][3][8].detach().tolist()[0]"
   ]
  },
  {
   "cell_type": "code",
   "execution_count": 14,
   "metadata": {},
   "outputs": [],
   "source": [
    "# data vis time ヾ(⌐■_■)ノ♪\n",
    "import numpy as np\n",
    "import seaborn as sns\n",
    "import matplotlib.pyplot as plt\n",
    "import matplotlib.colors\n",
    "%matplotlib inline\n",
    "\n",
    "#set font size of labels on matplotlib plots\n",
    "plt.rc('font', size=16)\n",
    "\n",
    "#set style of plots\n",
    "sns.set_style('white')"
   ]
  },
  {
   "cell_type": "code",
   "execution_count": 15,
   "metadata": {},
   "outputs": [],
   "source": [
    "label_path = \"../saved_models/bert_models_all/bert_to_binder_layer8.txt\"\n",
    "with open (label_path, \"r\") as file:\n",
    "    labels = [line.rstrip() for line in file.readlines()]"
   ]
  },
  {
   "cell_type": "code",
   "execution_count": 25,
   "metadata": {},
   "outputs": [
    {
     "data": {
      "text/html": [
       "<div>\n",
       "<style scoped>\n",
       "    .dataframe tbody tr th:only-of-type {\n",
       "        vertical-align: middle;\n",
       "    }\n",
       "\n",
       "    .dataframe tbody tr th {\n",
       "        vertical-align: top;\n",
       "    }\n",
       "\n",
       "    .dataframe thead th {\n",
       "        text-align: right;\n",
       "    }\n",
       "</style>\n",
       "<table border=\"1\" class=\"dataframe\">\n",
       "  <thead>\n",
       "    <tr style=\"text-align: right;\">\n",
       "      <th></th>\n",
       "      <th>feature</th>\n",
       "      <th>DO_natural</th>\n",
       "      <th>DO_alter</th>\n",
       "      <th>PO_natural</th>\n",
       "      <th>PO_alter</th>\n",
       "      <th>DO_change</th>\n",
       "      <th>PO_change</th>\n",
       "      <th>natural_diff</th>\n",
       "      <th>avg_diff_mag</th>\n",
       "      <th>center_val</th>\n",
       "      <th>DO_nat_center</th>\n",
       "      <th>PO_nat_center</th>\n",
       "    </tr>\n",
       "  </thead>\n",
       "  <tbody>\n",
       "    <tr>\n",
       "      <th>0</th>\n",
       "      <td>Vision</td>\n",
       "      <td>2.895803</td>\n",
       "      <td>2.878946</td>\n",
       "      <td>3.271316</td>\n",
       "      <td>3.104410</td>\n",
       "      <td>-0.016857</td>\n",
       "      <td>-0.166906</td>\n",
       "      <td>0.375513</td>\n",
       "      <td>0.091882</td>\n",
       "      <td>3.083560</td>\n",
       "      <td>-0.187757</td>\n",
       "      <td>0.187757</td>\n",
       "    </tr>\n",
       "    <tr>\n",
       "      <th>1</th>\n",
       "      <td>Bright</td>\n",
       "      <td>0.543461</td>\n",
       "      <td>0.615958</td>\n",
       "      <td>0.766476</td>\n",
       "      <td>0.660700</td>\n",
       "      <td>0.072497</td>\n",
       "      <td>-0.105776</td>\n",
       "      <td>0.223015</td>\n",
       "      <td>0.089137</td>\n",
       "      <td>0.654968</td>\n",
       "      <td>-0.111508</td>\n",
       "      <td>0.111508</td>\n",
       "    </tr>\n",
       "    <tr>\n",
       "      <th>2</th>\n",
       "      <td>Dark</td>\n",
       "      <td>0.408766</td>\n",
       "      <td>0.447420</td>\n",
       "      <td>0.520727</td>\n",
       "      <td>0.479199</td>\n",
       "      <td>0.038654</td>\n",
       "      <td>-0.041528</td>\n",
       "      <td>0.111961</td>\n",
       "      <td>0.040091</td>\n",
       "      <td>0.464747</td>\n",
       "      <td>-0.055981</td>\n",
       "      <td>0.055981</td>\n",
       "    </tr>\n",
       "    <tr>\n",
       "      <th>3</th>\n",
       "      <td>Color</td>\n",
       "      <td>0.852957</td>\n",
       "      <td>0.897632</td>\n",
       "      <td>1.028237</td>\n",
       "      <td>0.969798</td>\n",
       "      <td>0.044674</td>\n",
       "      <td>-0.058439</td>\n",
       "      <td>0.175280</td>\n",
       "      <td>0.051556</td>\n",
       "      <td>0.940597</td>\n",
       "      <td>-0.087640</td>\n",
       "      <td>0.087640</td>\n",
       "    </tr>\n",
       "    <tr>\n",
       "      <th>4</th>\n",
       "      <td>Pattern</td>\n",
       "      <td>1.046507</td>\n",
       "      <td>1.027146</td>\n",
       "      <td>1.093929</td>\n",
       "      <td>1.044053</td>\n",
       "      <td>-0.019362</td>\n",
       "      <td>-0.049875</td>\n",
       "      <td>0.047421</td>\n",
       "      <td>0.034618</td>\n",
       "      <td>1.070218</td>\n",
       "      <td>-0.023711</td>\n",
       "      <td>0.023711</td>\n",
       "    </tr>\n",
       "  </tbody>\n",
       "</table>\n",
       "</div>"
      ],
      "text/plain": [
       "   feature  DO_natural  DO_alter  PO_natural  PO_alter  DO_change  PO_change  \\\n",
       "0   Vision    2.895803  2.878946    3.271316  3.104410  -0.016857  -0.166906   \n",
       "1   Bright    0.543461  0.615958    0.766476  0.660700   0.072497  -0.105776   \n",
       "2     Dark    0.408766  0.447420    0.520727  0.479199   0.038654  -0.041528   \n",
       "3    Color    0.852957  0.897632    1.028237  0.969798   0.044674  -0.058439   \n",
       "4  Pattern    1.046507  1.027146    1.093929  1.044053  -0.019362  -0.049875   \n",
       "\n",
       "   natural_diff  avg_diff_mag  center_val  DO_nat_center  PO_nat_center  \n",
       "0      0.375513      0.091882    3.083560      -0.187757       0.187757  \n",
       "1      0.223015      0.089137    0.654968      -0.111508       0.111508  \n",
       "2      0.111961      0.040091    0.464747      -0.055981       0.055981  \n",
       "3      0.175280      0.051556    0.940597      -0.087640       0.087640  \n",
       "4      0.047421      0.034618    1.070218      -0.023711       0.023711  "
      ]
     },
     "execution_count": 25,
     "metadata": {},
     "output_type": "execute_result"
    }
   ],
   "source": [
    "# make a df for bert layer 8\n",
    "\n",
    "data = pd.DataFrame({\n",
    "    \"feature\": labels,\n",
    "    \"DO_natural\": preds_per_model['bert-base-uncased'][0][8].detach().tolist()[0],\n",
    "    \"DO_alter\": preds_per_model['bert-base-uncased'][1][8].detach().tolist()[0],\n",
    "    \"PO_natural\": preds_per_model['bert-base-uncased'][2][8].detach().tolist()[0],\n",
    "    \"PO_alter\": preds_per_model['bert-base-uncased'][3][8].detach().tolist()[0],\n",
    "})\n",
    "data.loc[:,'DO_change'] = data[\"DO_alter\"] - data[\"DO_natural\"]\n",
    "data.loc[:,'PO_change'] = data[\"PO_alter\"] - data[\"PO_natural\"]\n",
    "data.loc[:,'natural_diff'] = (data[\"DO_natural\"] - data[\"PO_natural\"]).abs()\n",
    "data.loc[:,'avg_diff_mag'] = (data[\"DO_change\"].abs() + data[\"PO_change\"].abs())/2\n",
    "\n",
    "data.loc[:,'center_val'] = (data[\"DO_natural\"] + data[\"PO_natural\"])/2\n",
    "data.loc[:,'DO_nat_center'] = data[\"DO_natural\"] - data[\"center_val\"]\n",
    "data.loc[:,'PO_nat_center'] = data[\"PO_natural\"] - data[\"center_val\"]\n",
    "data.head()"
   ]
  },
  {
   "cell_type": "code",
   "execution_count": 43,
   "metadata": {},
   "outputs": [
    {
     "data": {
      "image/png": "[encoded data removed]",
      "text/plain": [
       "<Figure size 500x500 with 1 Axes>"
      ]
     },
     "metadata": {},
     "output_type": "display_data"
    }
   ],
   "source": [
    "k = 10\n",
    "#sort features by amount of change, from largest to smallest\n",
    "data = data.sort_values(by='avg_diff_mag', ascending=True) \\\n",
    "           .reset_index(drop=True).tail(k)\n",
    "\n",
    "\n",
    "#initialize a plot\n",
    "fig, ax = plt.subplots(figsize=(5,5))\n",
    "ax.set_xlim(-0.5,0.5)\n",
    "ax.set_ylim(-1,k)\n",
    "ax.set_yticks(range(k))\n",
    "ax.set_yticklabels(data['feature'])\n",
    "\n",
    "#define arrows\n",
    "arrow_starts_DO = data['DO_nat_center']\n",
    "arrow_starts_PO = data['PO_nat_center']\n",
    "arrow_lengths_DO = data['DO_change'].values\n",
    "arrow_lengths_PO = data['PO_change'].values\n",
    "\n",
    "#add arrows to plot\n",
    "for i, subject in enumerate(data['feature']):\n",
    "    # DO arrows\n",
    "    ax.arrow(arrow_starts_DO[i],        #x start point\n",
    "             i,                      #y start point\n",
    "             arrow_lengths_DO[i],       #change in x \n",
    "             0,                      #change in y\n",
    "             head_width=0.6,         #arrow head width\n",
    "             head_length=0.05,        #arrow head length\n",
    "             width=0.2,              #arrow stem width\n",
    "             fc='black',             #arrow fill color\n",
    "             ec='black')             #arrow edge color\n",
    "    ax.arrow(arrow_starts_PO[i],        #x start point\n",
    "             i,                      #y start point\n",
    "             arrow_lengths_PO[i],       #change in x \n",
    "             0,                      #change in y\n",
    "             head_width=0.6,         #arrow head width\n",
    "             head_length=0.05,        #arrow head length\n",
    "             width=0.2,              #arrow stem width\n",
    "             fc='blue',             #arrow fill color\n",
    "             ec='blue')             #arrow edge color\n",
    "\n",
    "#format plot\n",
    "ax.set_title('Changes in scores')                     #add title\n",
    "ax.axvline(x=0, color='0.9', ls='--', lw=2, zorder=0) #add line at x=0\n",
    "ax.grid(axis='y', color='0.9')                        #add a light grid\n",
    "ax.set_xlim(-0.5,0.5)                                     #set x axis limits\n",
    "ax.set_xlabel('change')                               #label the x axis\n",
    "ax.set_ylabel('feature')                          #label the y axis\n",
    "sns.despine(left=True, bottom=True)                   #remove axes"
   ]
  },
  {
   "cell_type": "code",
   "execution_count": 33,
   "metadata": {},
   "outputs": [
    {
     "data": {
      "text/html": [
       "<div>\n",
       "<style scoped>\n",
       "    .dataframe tbody tr th:only-of-type {\n",
       "        vertical-align: middle;\n",
       "    }\n",
       "\n",
       "    .dataframe tbody tr th {\n",
       "        vertical-align: top;\n",
       "    }\n",
       "\n",
       "    .dataframe thead th {\n",
       "        text-align: right;\n",
       "    }\n",
       "</style>\n",
       "<table border=\"1\" class=\"dataframe\">\n",
       "  <thead>\n",
       "    <tr style=\"text-align: right;\">\n",
       "      <th></th>\n",
       "      <th>feature</th>\n",
       "      <th>DO_natural</th>\n",
       "      <th>DO_alter</th>\n",
       "      <th>PO_natural</th>\n",
       "      <th>PO_alter</th>\n",
       "      <th>DO_change</th>\n",
       "      <th>PO_change</th>\n",
       "      <th>natural_diff</th>\n",
       "      <th>avg_diff_mag</th>\n",
       "      <th>center_val</th>\n",
       "      <th>DO_nat_center</th>\n",
       "      <th>PO_nat_center</th>\n",
       "    </tr>\n",
       "  </thead>\n",
       "  <tbody>\n",
       "    <tr>\n",
       "      <th>64</th>\n",
       "      <td>Large</td>\n",
       "      <td>1.097291</td>\n",
       "      <td>1.228478</td>\n",
       "      <td>1.666039</td>\n",
       "      <td>1.290106</td>\n",
       "      <td>0.131187</td>\n",
       "      <td>-0.375932</td>\n",
       "      <td>0.568748</td>\n",
       "      <td>0.25356</td>\n",
       "      <td>1.381665</td>\n",
       "      <td>-0.284374</td>\n",
       "      <td>0.284374</td>\n",
       "    </tr>\n",
       "  </tbody>\n",
       "</table>\n",
       "</div>"
      ],
      "text/plain": [
       "   feature  DO_natural  DO_alter  PO_natural  PO_alter  DO_change  PO_change  \\\n",
       "64   Large    1.097291  1.228478    1.666039  1.290106   0.131187  -0.375932   \n",
       "\n",
       "    natural_diff  avg_diff_mag  center_val  DO_nat_center  PO_nat_center  \n",
       "64      0.568748       0.25356    1.381665      -0.284374       0.284374  "
      ]
     },
     "execution_count": 33,
     "metadata": {},
     "output_type": "execute_result"
    }
   ],
   "source": [
    "data[data['feature'] == \"Large\"]"
   ]
  },
  {
   "cell_type": "code",
   "execution_count": 42,
   "metadata": {},
   "outputs": [
    {
     "ename": "KeyError",
     "evalue": "0",
     "output_type": "error",
     "traceback": [
      "\u001b[0;31m---------------------------------------------------------------------------\u001b[0m",
      "\u001b[0;31mValueError\u001b[0m                                Traceback (most recent call last)",
      "File \u001b[0;32m~/.conda/envs/jwalenv/lib/python3.11/site-packages/pandas/core/indexes/range.py:414\u001b[0m, in \u001b[0;36mRangeIndex.get_loc\u001b[0;34m(self, key)\u001b[0m\n\u001b[1;32m    413\u001b[0m \u001b[38;5;28;01mtry\u001b[39;00m:\n\u001b[0;32m--> 414\u001b[0m     \u001b[38;5;28;01mreturn\u001b[39;00m \u001b[38;5;28mself\u001b[39m\u001b[38;5;241m.\u001b[39m_range\u001b[38;5;241m.\u001b[39mindex(new_key)\n\u001b[1;32m    415\u001b[0m \u001b[38;5;28;01mexcept\u001b[39;00m \u001b[38;5;167;01mValueError\u001b[39;00m \u001b[38;5;28;01mas\u001b[39;00m err:\n",
      "\u001b[0;31mValueError\u001b[0m: 0 is not in range",
      "\nThe above exception was the direct cause of the following exception:\n",
      "\u001b[0;31mKeyError\u001b[0m                                  Traceback (most recent call last)",
      "Cell \u001b[0;32mIn[42], line 44\u001b[0m\n\u001b[1;32m     41\u001b[0m \u001b[38;5;66;03m#add arrows to plot\u001b[39;00m\n\u001b[1;32m     42\u001b[0m \u001b[38;5;28;01mfor\u001b[39;00m i, subject \u001b[38;5;129;01min\u001b[39;00m \u001b[38;5;28menumerate\u001b[39m(data[\u001b[38;5;124m'\u001b[39m\u001b[38;5;124mfeature\u001b[39m\u001b[38;5;124m'\u001b[39m]):\n\u001b[1;32m     43\u001b[0m     \u001b[38;5;66;03m# DO arrows\u001b[39;00m\n\u001b[0;32m---> 44\u001b[0m     ax\u001b[38;5;241m.\u001b[39marrow(\u001b[43marrow_starts_DO\u001b[49m\u001b[43m[\u001b[49m\u001b[43mi\u001b[49m\u001b[43m]\u001b[49m,        \u001b[38;5;66;03m#x start point\u001b[39;00m\n\u001b[1;32m     45\u001b[0m             i,                      \u001b[38;5;66;03m#y start point\u001b[39;00m\n\u001b[1;32m     46\u001b[0m             arrow_lengths_DO[i],       \u001b[38;5;66;03m#change in x \u001b[39;00m\n\u001b[1;32m     47\u001b[0m             \u001b[38;5;241m0\u001b[39m,                      \u001b[38;5;66;03m#change in y\u001b[39;00m\n\u001b[1;32m     48\u001b[0m             head_width\u001b[38;5;241m=\u001b[39m\u001b[38;5;241m0.6\u001b[39m,         \u001b[38;5;66;03m#arrow head width\u001b[39;00m\n\u001b[1;32m     49\u001b[0m             head_length\u001b[38;5;241m=\u001b[39m\u001b[38;5;241m0.05\u001b[39m,        \u001b[38;5;66;03m#arrow head length\u001b[39;00m\n\u001b[1;32m     50\u001b[0m             width\u001b[38;5;241m=\u001b[39m\u001b[38;5;241m0.2\u001b[39m,              \u001b[38;5;66;03m#arrow stem width\u001b[39;00m\n\u001b[1;32m     51\u001b[0m             fc\u001b[38;5;241m=\u001b[39m\u001b[38;5;124m'\u001b[39m\u001b[38;5;124mblack\u001b[39m\u001b[38;5;124m'\u001b[39m,             \u001b[38;5;66;03m#arrow fill color\u001b[39;00m\n\u001b[1;32m     52\u001b[0m             ec\u001b[38;5;241m=\u001b[39m\u001b[38;5;124m'\u001b[39m\u001b[38;5;124mblack\u001b[39m\u001b[38;5;124m'\u001b[39m)             \u001b[38;5;66;03m#arrow edge color\u001b[39;00m\n\u001b[1;32m     53\u001b[0m     ax\u001b[38;5;241m.\u001b[39marrow(arrow_starts_PO[i],        \u001b[38;5;66;03m#x start point\u001b[39;00m\n\u001b[1;32m     54\u001b[0m             i,                      \u001b[38;5;66;03m#y start point\u001b[39;00m\n\u001b[1;32m     55\u001b[0m             arrow_lengths_PO[i],       \u001b[38;5;66;03m#change in x \u001b[39;00m\n\u001b[0;32m   (...)\u001b[0m\n\u001b[1;32m     60\u001b[0m             fc\u001b[38;5;241m=\u001b[39m\u001b[38;5;124m'\u001b[39m\u001b[38;5;124mblue\u001b[39m\u001b[38;5;124m'\u001b[39m,             \u001b[38;5;66;03m#arrow fill color\u001b[39;00m\n\u001b[1;32m     61\u001b[0m             ec\u001b[38;5;241m=\u001b[39m\u001b[38;5;124m'\u001b[39m\u001b[38;5;124mblue\u001b[39m\u001b[38;5;124m'\u001b[39m)             \u001b[38;5;66;03m#arrow edge color\u001b[39;00m\n\u001b[1;32m     63\u001b[0m \u001b[38;5;66;03m#format plot\u001b[39;00m\n",
      "File \u001b[0;32m~/.conda/envs/jwalenv/lib/python3.11/site-packages/pandas/core/series.py:1040\u001b[0m, in \u001b[0;36mSeries.__getitem__\u001b[0;34m(self, key)\u001b[0m\n\u001b[1;32m   1037\u001b[0m     \u001b[38;5;28;01mreturn\u001b[39;00m \u001b[38;5;28mself\u001b[39m\u001b[38;5;241m.\u001b[39m_values[key]\n\u001b[1;32m   1039\u001b[0m \u001b[38;5;28;01melif\u001b[39;00m key_is_scalar:\n\u001b[0;32m-> 1040\u001b[0m     \u001b[38;5;28;01mreturn\u001b[39;00m \u001b[38;5;28;43mself\u001b[39;49m\u001b[38;5;241;43m.\u001b[39;49m\u001b[43m_get_value\u001b[49m\u001b[43m(\u001b[49m\u001b[43mkey\u001b[49m\u001b[43m)\u001b[49m\n\u001b[1;32m   1042\u001b[0m \u001b[38;5;66;03m# Convert generator to list before going through hashable part\u001b[39;00m\n\u001b[1;32m   1043\u001b[0m \u001b[38;5;66;03m# (We will iterate through the generator there to check for slices)\u001b[39;00m\n\u001b[1;32m   1044\u001b[0m \u001b[38;5;28;01mif\u001b[39;00m is_iterator(key):\n",
      "File \u001b[0;32m~/.conda/envs/jwalenv/lib/python3.11/site-packages/pandas/core/series.py:1156\u001b[0m, in \u001b[0;36mSeries._get_value\u001b[0;34m(self, label, takeable)\u001b[0m\n\u001b[1;32m   1153\u001b[0m     \u001b[38;5;28;01mreturn\u001b[39;00m \u001b[38;5;28mself\u001b[39m\u001b[38;5;241m.\u001b[39m_values[label]\n\u001b[1;32m   1155\u001b[0m \u001b[38;5;66;03m# Similar to Index.get_value, but we do not fall back to positional\u001b[39;00m\n\u001b[0;32m-> 1156\u001b[0m loc \u001b[38;5;241m=\u001b[39m \u001b[38;5;28;43mself\u001b[39;49m\u001b[38;5;241;43m.\u001b[39;49m\u001b[43mindex\u001b[49m\u001b[38;5;241;43m.\u001b[39;49m\u001b[43mget_loc\u001b[49m\u001b[43m(\u001b[49m\u001b[43mlabel\u001b[49m\u001b[43m)\u001b[49m\n\u001b[1;32m   1158\u001b[0m \u001b[38;5;28;01mif\u001b[39;00m is_integer(loc):\n\u001b[1;32m   1159\u001b[0m     \u001b[38;5;28;01mreturn\u001b[39;00m \u001b[38;5;28mself\u001b[39m\u001b[38;5;241m.\u001b[39m_values[loc]\n",
      "File \u001b[0;32m~/.conda/envs/jwalenv/lib/python3.11/site-packages/pandas/core/indexes/range.py:416\u001b[0m, in \u001b[0;36mRangeIndex.get_loc\u001b[0;34m(self, key)\u001b[0m\n\u001b[1;32m    414\u001b[0m         \u001b[38;5;28;01mreturn\u001b[39;00m \u001b[38;5;28mself\u001b[39m\u001b[38;5;241m.\u001b[39m_range\u001b[38;5;241m.\u001b[39mindex(new_key)\n\u001b[1;32m    415\u001b[0m     \u001b[38;5;28;01mexcept\u001b[39;00m \u001b[38;5;167;01mValueError\u001b[39;00m \u001b[38;5;28;01mas\u001b[39;00m err:\n\u001b[0;32m--> 416\u001b[0m         \u001b[38;5;28;01mraise\u001b[39;00m \u001b[38;5;167;01mKeyError\u001b[39;00m(key) \u001b[38;5;28;01mfrom\u001b[39;00m \u001b[38;5;21;01merr\u001b[39;00m\n\u001b[1;32m    417\u001b[0m \u001b[38;5;28;01mif\u001b[39;00m \u001b[38;5;28misinstance\u001b[39m(key, Hashable):\n\u001b[1;32m    418\u001b[0m     \u001b[38;5;28;01mraise\u001b[39;00m \u001b[38;5;167;01mKeyError\u001b[39;00m(key)\n",
      "\u001b[0;31mKeyError\u001b[0m: 0"
     ]
    },
    {
     "data": {
      "image/png": "[encoded data removed]",
      "text/plain": [
       "<Figure size 700x1500 with 1 Axes>"
      ]
     },
     "metadata": {},
     "output_type": "display_data"
    }
   ],
   "source": [
    "# a loop to datavis for all 24 models\n",
    "for model in lms:\n",
    "    nick_name = str.split(model, \"-\")[0]\n",
    "    for layer in range(13):\n",
    "        data = pd.DataFrame({\n",
    "            \"feature\": labels,\n",
    "            \"DO_natural\": preds_per_model[model][0][layer].detach().tolist()[0],\n",
    "            \"DO_alter\": preds_per_model[model][1][layer].detach().tolist()[0],\n",
    "            \"PO_natural\": preds_per_model[model][2][layer].detach().tolist()[0],\n",
    "            \"PO_alter\": preds_per_model[model][3][layer].detach().tolist()[0],\n",
    "        })\n",
    "        data.loc[:,'DO_change'] = data[\"DO_alter\"] - data[\"DO_natural\"]\n",
    "        data.loc[:,'PO_change'] = data[\"PO_alter\"] - data[\"PO_natural\"]\n",
    "        data.loc[:,'natural_diff'] = (data[\"DO_natural\"] - data[\"PO_natural\"]).abs()\n",
    "        data.loc[:,'avg_diff_mag'] = (data[\"DO_change\"].abs() + data[\"PO_change\"].abs())/2\n",
    "\n",
    "        data.loc[:,'center_val'] = (data[\"DO_natural\"] + data[\"PO_natural\"])/2\n",
    "        data.loc[:,'DO_nat_center'] = data[\"DO_natural\"] - data[\"center_val\"]\n",
    "        data.loc[:,'PO_nat_center'] = data[\"PO_natural\"] - data[\"center_val\"]\n",
    "\n",
    "        # only plotting top 10 features\n",
    "        k = 10\n",
    "        #sort features by amount of change, from largest to smallest\n",
    "        data = data.sort_values(by='avg_diff_mag', ascending=True) \\\n",
    "           .reset_index(drop=True).tail(k)\n",
    "\n",
    "\n",
    "        #initialize a plot\n",
    "        fig, ax = plt.subplots(figsize=(5,5))\n",
    "        ax.set_xlim(-0.5,0.5)\n",
    "        ax.set_ylim(-1,k)\n",
    "        ax.set_yticks(range(k))\n",
    "        ax.set_yticklabels(data['feature'])\n",
    "\n",
    "        #define arrows\n",
    "        arrow_starts_DO = data['DO_nat_center']\n",
    "        arrow_starts_PO = data['PO_nat_center']\n",
    "        arrow_lengths_DO = data['DO_change'].values\n",
    "        arrow_lengths_PO = data['PO_change'].values\n",
    "\n",
    "        #add arrows to plot\n",
    "        for i, subject in enumerate(data['feature']):\n",
    "            # DO arrows\n",
    "            ax.arrow(arrow_starts_DO[i],        #x start point\n",
    "                    i,                      #y start point\n",
    "                    arrow_lengths_DO[i],       #change in x \n",
    "                    0,                      #change in y\n",
    "                    head_width=0.6,         #arrow head width\n",
    "                    head_length=0.05,        #arrow head length\n",
    "                    width=0.2,              #arrow stem width\n",
    "                    fc='black',             #arrow fill color\n",
    "                    ec='black')             #arrow edge color\n",
    "            ax.arrow(arrow_starts_PO[i],        #x start point\n",
    "                    i,                      #y start point\n",
    "                    arrow_lengths_PO[i],       #change in x \n",
    "                    0,                      #change in y\n",
    "                    head_width=0.6,         #arrow head width\n",
    "                    head_length=0.05,        #arrow head length\n",
    "                    width=0.2,              #arrow stem width\n",
    "                    fc='blue',             #arrow fill color\n",
    "                    ec='blue')             #arrow edge color\n",
    "\n",
    "        #format plot\n",
    "        ax.set_title(f\"changes for {nick_name} layer {layer}\")                     #add title\n",
    "        ax.axvline(x=0, color='0.9', ls='--', lw=2, zorder=0) #add line at x=0\n",
    "        ax.grid(axis='y', color='0.9')                        #add a light grid\n",
    "        ax.set_xlim(-0.5,0.5)                                     #set x axis limits\n",
    "        ax.set_xlabel('change')                               #label the x axis\n",
    "        ax.set_ylabel('feature')                          #label the y axis\n",
    "        sns.despine(left=True, bottom=True)                   #remove axes\n",
    "\n",
    "        plt.tight_layout()\n",
    "        plt.savefig(f\"results/{nick_name}{layer}.png\")\n",
    "        plt.close()"
   ]
  }
 ],
 "metadata": {
  "kernelspec": {
   "display_name": "jwalenv",
   "language": "python",
   "name": "python3"
  },
  "language_info": {
   "codemirror_mode": {
    "name": "ipython",
    "version": 3
   },
   "file_extension": ".py",
   "mimetype": "text/x-python",
   "name": "python",
   "nbconvert_exporter": "python",
   "pygments_lexer": "ipython3",
   "version": "3.11.5"
  }
 },
 "nbformat": 4,
 "nbformat_minor": 2
}
